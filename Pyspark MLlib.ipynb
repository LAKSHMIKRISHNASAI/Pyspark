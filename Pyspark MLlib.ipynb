{
 "cells": [
  {
   "cell_type": "code",
   "execution_count": 5,
   "id": "cd980aa3",
   "metadata": {},
   "outputs": [],
   "source": [
    "import findspark"
   ]
  },
  {
   "cell_type": "code",
   "execution_count": 4,
   "id": "668dffe2",
   "metadata": {},
   "outputs": [
    {
     "name": "stdout",
     "output_type": "stream",
     "text": [
      "Collecting findspark\n",
      "  Using cached findspark-2.0.1-py2.py3-none-any.whl (4.4 kB)\n",
      "Installing collected packages: findspark\n",
      "Successfully installed findspark-2.0.1\n"
     ]
    }
   ],
   "source": [
    "!pip install findspark"
   ]
  },
  {
   "cell_type": "code",
   "execution_count": 6,
   "id": "7cdc2d15",
   "metadata": {},
   "outputs": [],
   "source": [
    "import pyspark"
   ]
  },
  {
   "cell_type": "code",
   "execution_count": 7,
   "id": "d0391d08",
   "metadata": {},
   "outputs": [],
   "source": [
    "from pyspark.sql import SparkSession"
   ]
  },
  {
   "cell_type": "code",
   "execution_count": null,
   "id": "532cc91b",
   "metadata": {},
   "outputs": [],
   "source": [
    "spark=SparkSession.builder.getOrCreate()"
   ]
  },
  {
   "cell_type": "code",
   "execution_count": 1,
   "id": "7da3d5e3",
   "metadata": {},
   "outputs": [],
   "source": [
    "from pyspark.sql import SparkSession"
   ]
  },
  {
   "cell_type": "code",
   "execution_count": 2,
   "id": "03b8aa43",
   "metadata": {},
   "outputs": [],
   "source": [
    "spark=SparkSession.builder.appName(\"BASICS\").getOrCreate()"
   ]
  },
  {
   "cell_type": "code",
   "execution_count": 3,
   "id": "37406b7c",
   "metadata": {},
   "outputs": [
    {
     "data": {
      "text/html": [
       "\n",
       "            <div>\n",
       "                <p><b>SparkSession - in-memory</b></p>\n",
       "                \n",
       "        <div>\n",
       "            <p><b>SparkContext</b></p>\n",
       "\n",
       "            <p><a href=\"http://DESKTOP-EPRO57M:4040\">Spark UI</a></p>\n",
       "\n",
       "            <dl>\n",
       "              <dt>Version</dt>\n",
       "                <dd><code>v3.5.1</code></dd>\n",
       "              <dt>Master</dt>\n",
       "                <dd><code>local[*]</code></dd>\n",
       "              <dt>AppName</dt>\n",
       "                <dd><code>BASICS</code></dd>\n",
       "            </dl>\n",
       "        </div>\n",
       "        \n",
       "            </div>\n",
       "        "
      ],
      "text/plain": [
       "<pyspark.sql.session.SparkSession at 0x1c2b906a7d0>"
      ]
     },
     "execution_count": 3,
     "metadata": {},
     "output_type": "execute_result"
    }
   ],
   "source": [
    "spark"
   ]
  },
  {
   "cell_type": "code",
   "execution_count": 15,
   "id": "383fc686",
   "metadata": {},
   "outputs": [],
   "source": [
    "df=spark.read.json('people.json')"
   ]
  },
  {
   "cell_type": "code",
   "execution_count": 16,
   "id": "bf14600b",
   "metadata": {},
   "outputs": [
    {
     "name": "stdout",
     "output_type": "stream",
     "text": [
      "+---+-------+\n",
      "|age|   name|\n",
      "+---+-------+\n",
      "| 20|kishore|\n",
      "| 18|  ayush|\n",
      "| 30|   Ravi|\n",
      "+---+-------+\n",
      "\n"
     ]
    }
   ],
   "source": [
    "df.show()"
   ]
  },
  {
   "cell_type": "code",
   "execution_count": 18,
   "id": "cd46337c",
   "metadata": {},
   "outputs": [],
   "source": [
    "df2=spark.read.csv('exp-3.csv')"
   ]
  },
  {
   "cell_type": "code",
   "execution_count": 19,
   "id": "8ee83075",
   "metadata": {},
   "outputs": [
    {
     "name": "stdout",
     "output_type": "stream",
     "text": [
      "+----+----+------+------+\n",
      "| _c0| _c1|   _c2|   _c3|\n",
      "+----+----+------+------+\n",
      "|key1|key2|value1|value2|\n",
      "| one|   a|     1|     2|\n",
      "| one|   b|     3|     4|\n",
      "| one|   c|     5|     6|\n",
      "| one|   d|     7|     8|\n",
      "| two|   a|     9|    10|\n",
      "| two|   b|    11|    12|\n",
      "| two|   c|    13|    14|\n",
      "| two|   d|    15|    16|\n",
      "+----+----+------+------+\n",
      "\n"
     ]
    }
   ],
   "source": [
    "df2.show()"
   ]
  },
  {
   "cell_type": "code",
   "execution_count": 21,
   "id": "47bad1cf",
   "metadata": {},
   "outputs": [
    {
     "name": "stdout",
     "output_type": "stream",
     "text": [
      "root\n",
      " |-- age: long (nullable = true)\n",
      " |-- name: string (nullable = true)\n",
      "\n"
     ]
    }
   ],
   "source": [
    " df.printSchema()"
   ]
  },
  {
   "cell_type": "code",
   "execution_count": 22,
   "id": "89cf5dd8",
   "metadata": {},
   "outputs": [
    {
     "data": {
      "text/plain": [
       "DataFrame[age: bigint, name: string]"
      ]
     },
     "execution_count": 22,
     "metadata": {},
     "output_type": "execute_result"
    }
   ],
   "source": [
    "df"
   ]
  },
  {
   "cell_type": "code",
   "execution_count": 23,
   "id": "024c845b",
   "metadata": {},
   "outputs": [
    {
     "name": "stdout",
     "output_type": "stream",
     "text": [
      "+-------+------------------+-------+\n",
      "|summary|               age|   name|\n",
      "+-------+------------------+-------+\n",
      "|  count|                 3|      3|\n",
      "|   mean|22.666666666666668|   NULL|\n",
      "| stddev| 6.429100507328637|   NULL|\n",
      "|    min|                18|   Ravi|\n",
      "|    max|                30|kishore|\n",
      "+-------+------------------+-------+\n",
      "\n"
     ]
    }
   ],
   "source": [
    "df.describe().show()"
   ]
  },
  {
   "cell_type": "code",
   "execution_count": 27,
   "id": "520bcf3f",
   "metadata": {},
   "outputs": [],
   "source": [
    "from pyspark.sql.types import StructField,StructType,StringType,IntegerType"
   ]
  },
  {
   "cell_type": "code",
   "execution_count": 30,
   "id": "3821f460",
   "metadata": {},
   "outputs": [],
   "source": [
    "from pyspark.sql.types import StructField, StructType, StringType, IntegerType,FloatType,CharType"
   ]
  },
  {
   "cell_type": "code",
   "execution_count": 31,
   "id": "d3cbff99",
   "metadata": {},
   "outputs": [],
   "source": [
    "struct= [StructField('age',IntegerType(), True),StructField('name',StringType(),True)]"
   ]
  },
  {
   "cell_type": "code",
   "execution_count": 32,
   "id": "908190cd",
   "metadata": {},
   "outputs": [],
   "source": [
    "final_struct= StructType(fields=struct)"
   ]
  },
  {
   "cell_type": "code",
   "execution_count": 33,
   "id": "ab85b216",
   "metadata": {},
   "outputs": [],
   "source": [
    "df=spark.read.json('people.json',schema=final_struct)"
   ]
  },
  {
   "cell_type": "code",
   "execution_count": 34,
   "id": "df8e28c2",
   "metadata": {},
   "outputs": [
    {
     "name": "stdout",
     "output_type": "stream",
     "text": [
      "root\n",
      " |-- age: integer (nullable = true)\n",
      " |-- name: string (nullable = true)\n",
      "\n"
     ]
    }
   ],
   "source": [
    "df.printSchema()"
   ]
  },
  {
   "cell_type": "code",
   "execution_count": 35,
   "id": "160e244a",
   "metadata": {},
   "outputs": [
    {
     "name": "stdout",
     "output_type": "stream",
     "text": [
      "+---+-------+------+\n",
      "|age|   name|newage|\n",
      "+---+-------+------+\n",
      "| 20|kishore|    20|\n",
      "| 18|  ayush|    18|\n",
      "| 30|   Ravi|    30|\n",
      "+---+-------+------+\n",
      "\n"
     ]
    }
   ],
   "source": [
    " df.withColumn('newage',df['age']).show()"
   ]
  },
  {
   "cell_type": "code",
   "execution_count": 37,
   "id": "f16a58c8",
   "metadata": {},
   "outputs": [],
   "source": [
    "# df.withColumn()\n",
    "df.createOrReplaceTempView('people')"
   ]
  },
  {
   "cell_type": "code",
   "execution_count": 43,
   "id": "c9a1a8ee",
   "metadata": {},
   "outputs": [],
   "source": [
    "sql=spark.sql('select * from people where age=18')"
   ]
  },
  {
   "cell_type": "code",
   "execution_count": 44,
   "id": "63e81da4",
   "metadata": {},
   "outputs": [
    {
     "name": "stdout",
     "output_type": "stream",
     "text": [
      "+---+-----+\n",
      "|age| name|\n",
      "+---+-----+\n",
      "| 18|ayush|\n",
      "+---+-----+\n",
      "\n"
     ]
    }
   ],
   "source": [
    "sql.show()"
   ]
  },
  {
   "cell_type": "code",
   "execution_count": 40,
   "id": "07709cd2",
   "metadata": {},
   "outputs": [],
   "source": [
    "df2.createOrReplaceTempView('key_values')"
   ]
  },
  {
   "cell_type": "code",
   "execution_count": 45,
   "id": "69fe5826",
   "metadata": {},
   "outputs": [],
   "source": [
    "sql2=spark.sql('select * from key_values')"
   ]
  },
  {
   "cell_type": "code",
   "execution_count": 47,
   "id": "fe828713",
   "metadata": {},
   "outputs": [
    {
     "name": "stdout",
     "output_type": "stream",
     "text": [
      "+----+----+------+------+\n",
      "| _c0| _c1|   _c2|   _c3|\n",
      "+----+----+------+------+\n",
      "|key1|key2|value1|value2|\n",
      "| one|   a|     1|     2|\n",
      "| one|   b|     3|     4|\n",
      "| one|   c|     5|     6|\n",
      "| one|   d|     7|     8|\n",
      "| two|   a|     9|    10|\n",
      "| two|   b|    11|    12|\n",
      "| two|   c|    13|    14|\n",
      "| two|   d|    15|    16|\n",
      "+----+----+------+------+\n",
      "\n"
     ]
    }
   ],
   "source": [
    "sql2.show()"
   ]
  },
  {
   "cell_type": "code",
   "execution_count": 48,
   "id": "06039c14",
   "metadata": {},
   "outputs": [],
   "source": [
    "#schema inference example"
   ]
  },
  {
   "cell_type": "code",
   "execution_count": 53,
   "id": "d47a5de6",
   "metadata": {},
   "outputs": [],
   "source": [
    "# sc=spark.sparkContext\n",
    "sc=spark.sparkContext"
   ]
  },
  {
   "cell_type": "code",
   "execution_count": 57,
   "id": "3852b4a7",
   "metadata": {},
   "outputs": [],
   "source": [
    "lines=sc.textFile('D://new_downloads//spark-3.5.1-bin-hadoop3//spark-3.5.1-bin-hadoop3//examples//src//main//resources//people.txt')"
   ]
  },
  {
   "cell_type": "code",
   "execution_count": 58,
   "id": "15bfae1d",
   "metadata": {},
   "outputs": [
    {
     "data": {
      "text/plain": [
       "['Michael, 29', 'Andy, 30']"
      ]
     },
     "execution_count": 58,
     "metadata": {},
     "output_type": "execute_result"
    }
   ],
   "source": [
    "lines.take(2)"
   ]
  },
  {
   "cell_type": "code",
   "execution_count": 59,
   "id": "3ea0241f",
   "metadata": {},
   "outputs": [
    {
     "data": {
      "text/plain": [
       "['Michael, 29', 'Justin, 19']"
      ]
     },
     "execution_count": 59,
     "metadata": {},
     "output_type": "execute_result"
    }
   ],
   "source": [
    "lines.top(2)"
   ]
  },
  {
   "cell_type": "code",
   "execution_count": 60,
   "id": "714e057c",
   "metadata": {},
   "outputs": [],
   "source": [
    "split=lines.map(lambda line: line.split(','))"
   ]
  },
  {
   "cell_type": "code",
   "execution_count": 64,
   "id": "d5e27ed5",
   "metadata": {},
   "outputs": [
    {
     "data": {
      "text/plain": [
       "[['Michael', ' 29'], ['Andy', ' 30']]"
      ]
     },
     "execution_count": 64,
     "metadata": {},
     "output_type": "execute_result"
    }
   ],
   "source": [
    "split.take(2)"
   ]
  },
  {
   "cell_type": "code",
   "execution_count": 61,
   "id": "15fa7eda",
   "metadata": {},
   "outputs": [],
   "source": [
    "row=split.map(lambda l: Row(name=l[0],age=int(l[1])))"
   ]
  },
  {
   "cell_type": "code",
   "execution_count": null,
   "id": "ee433c3f",
   "metadata": {},
   "outputs": [],
   "source": []
  },
  {
   "cell_type": "code",
   "execution_count": 78,
   "id": "1d31846b",
   "metadata": {},
   "outputs": [
    {
     "ename": "PySparkTypeError",
     "evalue": "[SHOULD_NOT_DATAFRAME] Argument `data` should not be a DataFrame.",
     "output_type": "error",
     "traceback": [
      "\u001b[1;31m---------------------------------------------------------------------------\u001b[0m",
      "\u001b[1;31mPySparkTypeError\u001b[0m                          Traceback (most recent call last)",
      "Cell \u001b[1;32mIn[78], line 1\u001b[0m\n\u001b[1;32m----> 1\u001b[0m people\u001b[38;5;241m=\u001b[39mspark\u001b[38;5;241m.\u001b[39mcreateDataFrame(df)\n",
      "File \u001b[1;32mD:\\new_downloads\\Anaconda\\Lib\\site-packages\\pyspark\\sql\\session.py:1385\u001b[0m, in \u001b[0;36mSparkSession.createDataFrame\u001b[1;34m(self, data, schema, samplingRatio, verifySchema)\u001b[0m\n\u001b[0;32m   1383\u001b[0m \u001b[38;5;28mself\u001b[39m\u001b[38;5;241m.\u001b[39m_jvm\u001b[38;5;241m.\u001b[39mSparkSession\u001b[38;5;241m.\u001b[39msetActiveSession(\u001b[38;5;28mself\u001b[39m\u001b[38;5;241m.\u001b[39m_jsparkSession)\n\u001b[0;32m   1384\u001b[0m \u001b[38;5;28;01mif\u001b[39;00m \u001b[38;5;28misinstance\u001b[39m(data, DataFrame):\n\u001b[1;32m-> 1385\u001b[0m     \u001b[38;5;28;01mraise\u001b[39;00m PySparkTypeError(\n\u001b[0;32m   1386\u001b[0m         error_class\u001b[38;5;241m=\u001b[39m\u001b[38;5;124m\"\u001b[39m\u001b[38;5;124mSHOULD_NOT_DATAFRAME\u001b[39m\u001b[38;5;124m\"\u001b[39m,\n\u001b[0;32m   1387\u001b[0m         message_parameters\u001b[38;5;241m=\u001b[39m{\u001b[38;5;124m\"\u001b[39m\u001b[38;5;124marg_name\u001b[39m\u001b[38;5;124m\"\u001b[39m: \u001b[38;5;124m\"\u001b[39m\u001b[38;5;124mdata\u001b[39m\u001b[38;5;124m\"\u001b[39m},\n\u001b[0;32m   1388\u001b[0m     )\n\u001b[0;32m   1390\u001b[0m \u001b[38;5;28;01mif\u001b[39;00m \u001b[38;5;28misinstance\u001b[39m(schema, \u001b[38;5;28mstr\u001b[39m):\n\u001b[0;32m   1391\u001b[0m     schema \u001b[38;5;241m=\u001b[39m cast(Union[AtomicType, StructType, \u001b[38;5;28mstr\u001b[39m], _parse_datatype_string(schema))\n",
      "\u001b[1;31mPySparkTypeError\u001b[0m: [SHOULD_NOT_DATAFRAME] Argument `data` should not be a DataFrame."
     ]
    }
   ],
   "source": [
    "people=spark.createDataFrame(df)"
   ]
  },
  {
   "cell_type": "code",
   "execution_count": 82,
   "id": "6dc0a6fc",
   "metadata": {},
   "outputs": [],
   "source": [
    "sc=spark.sparkContext"
   ]
  },
  {
   "cell_type": "code",
   "execution_count": 83,
   "id": "0f6d71f6",
   "metadata": {},
   "outputs": [],
   "source": [
    "lines=sc.textFile('D://new_downloads//spark-3.5.1-bin-hadoop3//spark-3.5.1-bin-hadoop3//examples//src//main//resources//people.txt')"
   ]
  },
  {
   "cell_type": "code",
   "execution_count": 84,
   "id": "a4c0efea",
   "metadata": {},
   "outputs": [],
   "source": [
    "parts=lines.map(lambda x: x.split(','))\n",
    "people=parts.map(lambda p: (p[0],p[1].strip()))"
   ]
  },
  {
   "cell_type": "code",
   "execution_count": 86,
   "id": "77aab731",
   "metadata": {},
   "outputs": [
    {
     "data": {
      "text/plain": [
       "[('Michael', '29'), ('Andy', '30')]"
      ]
     },
     "execution_count": 86,
     "metadata": {},
     "output_type": "execute_result"
    }
   ],
   "source": [
    "people.take(2)"
   ]
  },
  {
   "cell_type": "code",
   "execution_count": null,
   "id": "c25c9e69",
   "metadata": {},
   "outputs": [],
   "source": []
  },
  {
   "cell_type": "code",
   "execution_count": 74,
   "id": "41f5ba5e",
   "metadata": {},
   "outputs": [],
   "source": [
    "from pyspark.sql.types import StructField,StructType"
   ]
  },
  {
   "cell_type": "code",
   "execution_count": 75,
   "id": "c1c15588",
   "metadata": {},
   "outputs": [],
   "source": [
    "schema=StructType([\n",
    "    StructField('name',StringType(),True),\n",
    "    StructField('age',IntegerType(),True)\n",
    "])"
   ]
  },
  {
   "cell_type": "code",
   "execution_count": 87,
   "id": "a5d78373",
   "metadata": {},
   "outputs": [],
   "source": [
    "schema_people=spark.createDataFrame(people,schema)"
   ]
  },
  {
   "cell_type": "code",
   "execution_count": 89,
   "id": "9de47bcb",
   "metadata": {},
   "outputs": [
    {
     "data": {
      "text/plain": [
       "DataFrame[name: string, age: int]"
      ]
     },
     "execution_count": 89,
     "metadata": {},
     "output_type": "execute_result"
    }
   ],
   "source": [
    "schema_people"
   ]
  },
  {
   "cell_type": "code",
   "execution_count": null,
   "id": "82f904f1",
   "metadata": {},
   "outputs": [],
   "source": []
  },
  {
   "cell_type": "code",
   "execution_count": 2,
   "id": "adc7084b",
   "metadata": {},
   "outputs": [],
   "source": [
    "from pyspark.sql import SparkSession"
   ]
  },
  {
   "cell_type": "code",
   "execution_count": 3,
   "id": "46a9cf34",
   "metadata": {},
   "outputs": [],
   "source": [
    "spark2=SparkSession.builder.appName('python spark sql hive integration').config('spark.some.config.option','some-value').enableHiveSupport().getOrCreate()"
   ]
  },
  {
   "cell_type": "code",
   "execution_count": 4,
   "id": "de0389ba",
   "metadata": {},
   "outputs": [
    {
     "data": {
      "text/html": [
       "\n",
       "            <div>\n",
       "                <p><b>SparkSession - hive</b></p>\n",
       "                \n",
       "        <div>\n",
       "            <p><b>SparkContext</b></p>\n",
       "\n",
       "            <p><a href=\"http://DESKTOP-EPRO57M:4041\">Spark UI</a></p>\n",
       "\n",
       "            <dl>\n",
       "              <dt>Version</dt>\n",
       "                <dd><code>v3.5.1</code></dd>\n",
       "              <dt>Master</dt>\n",
       "                <dd><code>local[*]</code></dd>\n",
       "              <dt>AppName</dt>\n",
       "                <dd><code>python spark sql hive integration</code></dd>\n",
       "            </dl>\n",
       "        </div>\n",
       "        \n",
       "            </div>\n",
       "        "
      ],
      "text/plain": [
       "<pyspark.sql.session.SparkSession at 0x1bab4ce8310>"
      ]
     },
     "execution_count": 4,
     "metadata": {},
     "output_type": "execute_result"
    }
   ],
   "source": [
    "spark2"
   ]
  },
  {
   "cell_type": "code",
   "execution_count": null,
   "id": "dd4b27d3",
   "metadata": {},
   "outputs": [],
   "source": [
    "#  SparkSession.builder.appName('').config('spark.some.config.option','some-value').enableHiveSupport().getOrCreate()"
   ]
  },
  {
   "cell_type": "code",
   "execution_count": null,
   "id": "1262126c",
   "metadata": {},
   "outputs": [],
   "source": []
  },
  {
   "cell_type": "code",
   "execution_count": 1,
   "id": "acbcc593",
   "metadata": {},
   "outputs": [],
   "source": [
    "import pyspark"
   ]
  },
  {
   "cell_type": "code",
   "execution_count": 2,
   "id": "cd79e175",
   "metadata": {},
   "outputs": [],
   "source": [
    "from pyspark.ml.regression import LinearRegression"
   ]
  },
  {
   "cell_type": "code",
   "execution_count": 3,
   "id": "79de904e",
   "metadata": {},
   "outputs": [],
   "source": [
    "from pyspark.sql import SparkSession"
   ]
  },
  {
   "cell_type": "code",
   "execution_count": 5,
   "id": "1687f1f5",
   "metadata": {},
   "outputs": [],
   "source": [
    "spark=SparkSession.builder.getOrCreate()"
   ]
  },
  {
   "cell_type": "code",
   "execution_count": 4,
   "id": "53c5b777",
   "metadata": {},
   "outputs": [],
   "source": [
    "spark=SparkSession.builder.appName('Recommendation_app').getOrCreate()"
   ]
  },
  {
   "cell_type": "code",
   "execution_count": 5,
   "id": "074b0a5b",
   "metadata": {},
   "outputs": [
    {
     "data": {
      "text/html": [
       "\n",
       "            <div>\n",
       "                <p><b>SparkSession - in-memory</b></p>\n",
       "                \n",
       "        <div>\n",
       "            <p><b>SparkContext</b></p>\n",
       "\n",
       "            <p><a href=\"http://DESKTOP-EPRO57M:4040\">Spark UI</a></p>\n",
       "\n",
       "            <dl>\n",
       "              <dt>Version</dt>\n",
       "                <dd><code>v3.5.1</code></dd>\n",
       "              <dt>Master</dt>\n",
       "                <dd><code>local[*]</code></dd>\n",
       "              <dt>AppName</dt>\n",
       "                <dd><code>Recommendation_app</code></dd>\n",
       "            </dl>\n",
       "        </div>\n",
       "        \n",
       "            </div>\n",
       "        "
      ],
      "text/plain": [
       "<pyspark.sql.session.SparkSession at 0x243439a5fd0>"
      ]
     },
     "execution_count": 5,
     "metadata": {},
     "output_type": "execute_result"
    }
   ],
   "source": [
    "spark"
   ]
  },
  {
   "cell_type": "code",
   "execution_count": 6,
   "id": "0fd2e791",
   "metadata": {},
   "outputs": [],
   "source": [
    "df=spark.read.csv(\"D://users//krishnasai//Downloads//flight_price_prediction.csv\",inferSchema=True,header=True)"
   ]
  },
  {
   "cell_type": "code",
   "execution_count": 7,
   "id": "10d7249c",
   "metadata": {},
   "outputs": [
    {
     "data": {
      "text/plain": [
       "Row(filghtId=278519, airline='Air_India', flight='AI-559', source_city='Hyderabad', departure_time='Early_Morning', stops='one', arrival_time='Night', destination_city='Mumbai', duration=14.75, days_left=22, class='Economy')"
      ]
     },
     "execution_count": 7,
     "metadata": {},
     "output_type": "execute_result"
    }
   ],
   "source": [
    "df.head()"
   ]
  },
  {
   "cell_type": "code",
   "execution_count": 25,
   "id": "e7eb9c4e",
   "metadata": {},
   "outputs": [
    {
     "data": {
      "text/plain": [
       "Column<'_c0[values]'>"
      ]
     },
     "execution_count": 25,
     "metadata": {},
     "output_type": "execute_result"
    }
   ],
   "source": [
    "df[\"_c0\"].values"
   ]
  },
  {
   "cell_type": "code",
   "execution_count": 28,
   "id": "0c298ad6",
   "metadata": {},
   "outputs": [
    {
     "data": {
      "text/plain": [
       "DataFrame[filghtId: int, airline: string, flight: string, source_city: string, departure_time: string, stops: string, arrival_time: string, destination_city: string, duration: double, days_left: int, class: string]"
      ]
     },
     "execution_count": 28,
     "metadata": {},
     "output_type": "execute_result"
    }
   ],
   "source": [
    "df"
   ]
  },
  {
   "cell_type": "code",
   "execution_count": 8,
   "id": "068b8898",
   "metadata": {},
   "outputs": [
    {
     "name": "stdout",
     "output_type": "stream",
     "text": [
      "+--------+---------+------+-----------+--------------+-----+------------+----------------+--------+---------+-------+\n",
      "|filghtId|  airline|flight|source_city|departure_time|stops|arrival_time|destination_city|duration|days_left|  class|\n",
      "+--------+---------+------+-----------+--------------+-----+------------+----------------+--------+---------+-------+\n",
      "|  278519|Air_India|AI-559|  Hyderabad| Early_Morning|  one|       Night|          Mumbai|   14.75|       22|Economy|\n",
      "|  264230|  Vistara|UK-720|    Kolkata| Early_Morning|  one|     Evening|          Mumbai|    9.33|        6|Economy|\n",
      "|  260097|  Vistara|UK-852|  Bangalore|       Morning|  one|     Evening|         Chennai|   10.42|       27|Economy|\n",
      "|  218935|  Vistara|UK-747|      Delhi| Early_Morning| zero|     Morning|         Kolkata|    2.08|       47|Economy|\n",
      "|  211085|Air_India|AI-762|      Delhi|         Night|  one|       Night|          Mumbai|   23.83|       41|Economy|\n",
      "|  251748|Air_India|AI-505|  Bangalore|       Morning|  one|       Night|          Mumbai|   11.17|       37|Economy|\n",
      "|  292760|Air_India|AI-430|    Chennai|       Morning|  one|       Night|          Mumbai|   11.33|       39|Economy|\n",
      "|  292966|Air_India|AI-440|    Chennai| Early_Morning|  one|       Night|          Mumbai|   15.08|       42|Economy|\n",
      "|  245610|Air_India|AI-565|  Bangalore|     Afternoon|  one|     Morning|           Delhi|   18.75|       12|Economy|\n",
      "|  261821|Air_India|AI-773|    Kolkata|       Evening|  one|   Afternoon|           Delhi|    19.0|       11|Economy|\n",
      "|  283750|  Vistara|UK-830|  Hyderabad|       Morning|  one|     Evening|         Kolkata|    9.25|       18|Economy|\n",
      "|  282713|  Vistara|UK-874|  Hyderabad|       Morning|  one|       Night|       Bangalore|   12.42|       45|Economy|\n",
      "|  281982|Air_India|AI-698|  Hyderabad|         Night|  one|     Evening|       Bangalore|   20.25|       32|Economy|\n",
      "|  252526|Air_India|AI-604|  Bangalore|       Morning| zero|     Morning|          Mumbai|     2.0|       46|Economy|\n",
      "|  279317|Air_India|AI-840|  Hyderabad|         Night|  one|   Afternoon|          Mumbai|    16.0|       34|Economy|\n",
      "|  285809|  Vistara|UK-860|  Hyderabad| Early_Morning|  one|       Night|         Chennai|   13.42|       12|Economy|\n",
      "|  246698|  Vistara|UK-852|  Bangalore|       Morning|  one|     Evening|           Delhi|    8.58|       25|Economy|\n",
      "|  274732|  Vistara|UK-720|    Kolkata| Early_Morning|  one|       Night|         Chennai|   13.08|       49|Economy|\n",
      "|  271464|  Vistara|UK-738|    Kolkata|       Evening|  one|     Evening|       Hyderabad|   22.25|       27|Economy|\n",
      "|  243380|Air_India|AI-888|     Mumbai|       Evening|  one|     Evening|         Chennai|    24.0|       28|Economy|\n",
      "+--------+---------+------+-----------+--------------+-----+------------+----------------+--------+---------+-------+\n",
      "only showing top 20 rows\n",
      "\n"
     ]
    }
   ],
   "source": [
    "df.show()"
   ]
  },
  {
   "cell_type": "code",
   "execution_count": 10,
   "id": "5dac8178",
   "metadata": {},
   "outputs": [
    {
     "data": {
      "text/plain": [
       "Row(filghtId=278519, airline='Air_India', flight='AI-559', source_city='Hyderabad', departure_time='Early_Morning', stops='one', arrival_time='Night', destination_city='Mumbai', duration=14.75, days_left=22, class='Economy')"
      ]
     },
     "execution_count": 10,
     "metadata": {},
     "output_type": "execute_result"
    }
   ],
   "source": [
    "df.head()"
   ]
  },
  {
   "cell_type": "code",
   "execution_count": 9,
   "id": "86605d00",
   "metadata": {},
   "outputs": [],
   "source": [
    "from pyspark.ml.linalg import Vectors\n",
    "from pyspark.ml.feature import VectorAssembler"
   ]
  },
  {
   "cell_type": "code",
   "execution_count": 31,
   "id": "821810fd",
   "metadata": {},
   "outputs": [],
   "source": [
    "from pyspark.ml.feature import VectorAssembler\n",
    "from pyspark.ml.linalg import Vectors"
   ]
  },
  {
   "cell_type": "code",
   "execution_count": 18,
   "id": "1495f211",
   "metadata": {},
   "outputs": [],
   "source": [
    "feature_assembler= VectorAssembler(inputCols=['duration','days_left'],outputCol='Independent features')"
   ]
  },
  {
   "cell_type": "code",
   "execution_count": 19,
   "id": "6c233575",
   "metadata": {},
   "outputs": [],
   "source": [
    "output=feature_assembler.transform(df)"
   ]
  },
  {
   "cell_type": "code",
   "execution_count": 20,
   "id": "41518492",
   "metadata": {},
   "outputs": [],
   "source": [
    "finalized_data= output.select(\"Independent features\",'class')\n"
   ]
  },
  {
   "cell_type": "code",
   "execution_count": 21,
   "id": "eee85901",
   "metadata": {},
   "outputs": [
    {
     "name": "stdout",
     "output_type": "stream",
     "text": [
      "+--------------------+-------+\n",
      "|Independent features|  class|\n",
      "+--------------------+-------+\n",
      "|        [14.75,22.0]|Economy|\n",
      "|          [9.33,6.0]|Economy|\n",
      "|        [10.42,27.0]|Economy|\n",
      "|         [2.08,47.0]|Economy|\n",
      "|        [23.83,41.0]|Economy|\n",
      "|        [11.17,37.0]|Economy|\n",
      "|        [11.33,39.0]|Economy|\n",
      "|        [15.08,42.0]|Economy|\n",
      "|        [18.75,12.0]|Economy|\n",
      "|         [19.0,11.0]|Economy|\n",
      "|         [9.25,18.0]|Economy|\n",
      "|        [12.42,45.0]|Economy|\n",
      "|        [20.25,32.0]|Economy|\n",
      "|          [2.0,46.0]|Economy|\n",
      "|         [16.0,34.0]|Economy|\n",
      "|        [13.42,12.0]|Economy|\n",
      "|         [8.58,25.0]|Economy|\n",
      "|        [13.08,49.0]|Economy|\n",
      "|        [22.25,27.0]|Economy|\n",
      "|         [24.0,28.0]|Economy|\n",
      "+--------------------+-------+\n",
      "only showing top 20 rows\n",
      "\n"
     ]
    }
   ],
   "source": [
    "finalized_data.show()"
   ]
  },
  {
   "cell_type": "code",
   "execution_count": 42,
   "id": "46917aec",
   "metadata": {},
   "outputs": [],
   "source": [
    "df_data=finalized_data.toPandas()"
   ]
  },
  {
   "cell_type": "code",
   "execution_count": 43,
   "id": "5fce8f3a",
   "metadata": {},
   "outputs": [
    {
     "data": {
      "text/html": [
       "<div>\n",
       "<style scoped>\n",
       "    .dataframe tbody tr th:only-of-type {\n",
       "        vertical-align: middle;\n",
       "    }\n",
       "\n",
       "    .dataframe tbody tr th {\n",
       "        vertical-align: top;\n",
       "    }\n",
       "\n",
       "    .dataframe thead th {\n",
       "        text-align: right;\n",
       "    }\n",
       "</style>\n",
       "<table border=\"1\" class=\"dataframe\">\n",
       "  <thead>\n",
       "    <tr style=\"text-align: right;\">\n",
       "      <th></th>\n",
       "      <th>Independent features</th>\n",
       "      <th>class</th>\n",
       "    </tr>\n",
       "  </thead>\n",
       "  <tbody>\n",
       "    <tr>\n",
       "      <th>0</th>\n",
       "      <td>[14.75, 22.0]</td>\n",
       "      <td>Economy</td>\n",
       "    </tr>\n",
       "    <tr>\n",
       "      <th>1</th>\n",
       "      <td>[9.33, 6.0]</td>\n",
       "      <td>Economy</td>\n",
       "    </tr>\n",
       "    <tr>\n",
       "      <th>2</th>\n",
       "      <td>[10.42, 27.0]</td>\n",
       "      <td>Economy</td>\n",
       "    </tr>\n",
       "    <tr>\n",
       "      <th>3</th>\n",
       "      <td>[2.08, 47.0]</td>\n",
       "      <td>Economy</td>\n",
       "    </tr>\n",
       "    <tr>\n",
       "      <th>4</th>\n",
       "      <td>[23.83, 41.0]</td>\n",
       "      <td>Economy</td>\n",
       "    </tr>\n",
       "  </tbody>\n",
       "</table>\n",
       "</div>"
      ],
      "text/plain": [
       "  Independent features    class\n",
       "0        [14.75, 22.0]  Economy\n",
       "1          [9.33, 6.0]  Economy\n",
       "2        [10.42, 27.0]  Economy\n",
       "3         [2.08, 47.0]  Economy\n",
       "4        [23.83, 41.0]  Economy"
      ]
     },
     "execution_count": 43,
     "metadata": {},
     "output_type": "execute_result"
    }
   ],
   "source": [
    "df_data.head()"
   ]
  },
  {
   "cell_type": "code",
   "execution_count": 50,
   "id": "a9ea4314",
   "metadata": {},
   "outputs": [
    {
     "data": {
      "text/plain": [
       "0"
      ]
     },
     "execution_count": 50,
     "metadata": {},
     "output_type": "execute_result"
    }
   ],
   "source": [
    "df_data['class'].isnull().sum()"
   ]
  },
  {
   "cell_type": "code",
   "execution_count": 58,
   "id": "523f11bb",
   "metadata": {},
   "outputs": [],
   "source": [
    "df_data['class']=df_data['class'].replace({\n",
    "    \"Economy\":1,\n",
    "    \"Business\":2\n",
    "})"
   ]
  },
  {
   "cell_type": "code",
   "execution_count": 59,
   "id": "be1e9e92",
   "metadata": {},
   "outputs": [
    {
     "data": {
      "text/plain": [
       "0       1\n",
       "1       1\n",
       "2       1\n",
       "3       1\n",
       "4       1\n",
       "       ..\n",
       "3342    2\n",
       "3343    2\n",
       "3344    2\n",
       "3345    2\n",
       "3346    2\n",
       "Name: class, Length: 3347, dtype: int64"
      ]
     },
     "execution_count": 59,
     "metadata": {},
     "output_type": "execute_result"
    }
   ],
   "source": [
    "df_data['class']"
   ]
  },
  {
   "cell_type": "code",
   "execution_count": 62,
   "id": "131a79dc",
   "metadata": {},
   "outputs": [
    {
     "data": {
      "text/html": [
       "<div>\n",
       "<style scoped>\n",
       "    .dataframe tbody tr th:only-of-type {\n",
       "        vertical-align: middle;\n",
       "    }\n",
       "\n",
       "    .dataframe tbody tr th {\n",
       "        vertical-align: top;\n",
       "    }\n",
       "\n",
       "    .dataframe thead th {\n",
       "        text-align: right;\n",
       "    }\n",
       "</style>\n",
       "<table border=\"1\" class=\"dataframe\">\n",
       "  <thead>\n",
       "    <tr style=\"text-align: right;\">\n",
       "      <th></th>\n",
       "      <th>Independent features</th>\n",
       "      <th>class</th>\n",
       "    </tr>\n",
       "  </thead>\n",
       "  <tbody>\n",
       "    <tr>\n",
       "      <th>0</th>\n",
       "      <td>[14.75, 22.0]</td>\n",
       "      <td>1</td>\n",
       "    </tr>\n",
       "    <tr>\n",
       "      <th>1</th>\n",
       "      <td>[9.33, 6.0]</td>\n",
       "      <td>1</td>\n",
       "    </tr>\n",
       "    <tr>\n",
       "      <th>2</th>\n",
       "      <td>[10.42, 27.0]</td>\n",
       "      <td>1</td>\n",
       "    </tr>\n",
       "    <tr>\n",
       "      <th>3</th>\n",
       "      <td>[2.08, 47.0]</td>\n",
       "      <td>1</td>\n",
       "    </tr>\n",
       "    <tr>\n",
       "      <th>4</th>\n",
       "      <td>[23.83, 41.0]</td>\n",
       "      <td>1</td>\n",
       "    </tr>\n",
       "    <tr>\n",
       "      <th>...</th>\n",
       "      <td>...</td>\n",
       "      <td>...</td>\n",
       "    </tr>\n",
       "    <tr>\n",
       "      <th>3342</th>\n",
       "      <td>[17.17, 36.0]</td>\n",
       "      <td>2</td>\n",
       "    </tr>\n",
       "    <tr>\n",
       "      <th>3343</th>\n",
       "      <td>[15.17, 9.0]</td>\n",
       "      <td>2</td>\n",
       "    </tr>\n",
       "    <tr>\n",
       "      <th>3344</th>\n",
       "      <td>[13.83, 27.0]</td>\n",
       "      <td>2</td>\n",
       "    </tr>\n",
       "    <tr>\n",
       "      <th>3345</th>\n",
       "      <td>[15.08, 28.0]</td>\n",
       "      <td>2</td>\n",
       "    </tr>\n",
       "    <tr>\n",
       "      <th>3346</th>\n",
       "      <td>[15.92, 38.0]</td>\n",
       "      <td>2</td>\n",
       "    </tr>\n",
       "  </tbody>\n",
       "</table>\n",
       "<p>3347 rows × 2 columns</p>\n",
       "</div>"
      ],
      "text/plain": [
       "     Independent features  class\n",
       "0           [14.75, 22.0]      1\n",
       "1             [9.33, 6.0]      1\n",
       "2           [10.42, 27.0]      1\n",
       "3            [2.08, 47.0]      1\n",
       "4           [23.83, 41.0]      1\n",
       "...                   ...    ...\n",
       "3342        [17.17, 36.0]      2\n",
       "3343         [15.17, 9.0]      2\n",
       "3344        [13.83, 27.0]      2\n",
       "3345        [15.08, 28.0]      2\n",
       "3346        [15.92, 38.0]      2\n",
       "\n",
       "[3347 rows x 2 columns]"
      ]
     },
     "execution_count": 62,
     "metadata": {},
     "output_type": "execute_result"
    }
   ],
   "source": [
    "df_data"
   ]
  },
  {
   "cell_type": "code",
   "execution_count": 77,
   "id": "de63cf96",
   "metadata": {},
   "outputs": [],
   "source": [
    "finalized_data=spark.createDataFrame(df_data)"
   ]
  },
  {
   "cell_type": "code",
   "execution_count": 76,
   "id": "8969295f",
   "metadata": {},
   "outputs": [
    {
     "name": "stdout",
     "output_type": "stream",
     "text": [
      "+--------------------+-----+\n",
      "|Independent features|class|\n",
      "+--------------------+-----+\n",
      "|        [14.75,22.0]|    1|\n",
      "|          [9.33,6.0]|    1|\n",
      "|        [10.42,27.0]|    1|\n",
      "|         [2.08,47.0]|    1|\n",
      "|        [23.83,41.0]|    1|\n",
      "|        [11.17,37.0]|    1|\n",
      "|        [11.33,39.0]|    1|\n",
      "|        [15.08,42.0]|    1|\n",
      "|        [18.75,12.0]|    1|\n",
      "|         [19.0,11.0]|    1|\n",
      "|         [9.25,18.0]|    1|\n",
      "|        [12.42,45.0]|    1|\n",
      "|        [20.25,32.0]|    1|\n",
      "|          [2.0,46.0]|    1|\n",
      "|         [16.0,34.0]|    1|\n",
      "|        [13.42,12.0]|    1|\n",
      "|         [8.58,25.0]|    1|\n",
      "|        [13.08,49.0]|    1|\n",
      "|        [22.25,27.0]|    1|\n",
      "|         [24.0,28.0]|    1|\n",
      "+--------------------+-----+\n",
      "only showing top 20 rows\n",
      "\n"
     ]
    }
   ],
   "source": [
    "df.show()"
   ]
  },
  {
   "cell_type": "code",
   "execution_count": null,
   "id": "03df2742",
   "metadata": {},
   "outputs": [],
   "source": [
    "finalized_data=df_data.toSpark()"
   ]
  },
  {
   "cell_type": "code",
   "execution_count": 41,
   "id": "f742829c",
   "metadata": {},
   "outputs": [
    {
     "name": "stdout",
     "output_type": "stream",
     "text": [
      "+--------+---------+------+-----------+--------------+-----+------------+----------------+--------+---------+-------+--------------------+\n",
      "|filghtId|  airline|flight|source_city|departure_time|stops|arrival_time|destination_city|duration|days_left|  class|Independent features|\n",
      "+--------+---------+------+-----------+--------------+-----+------------+----------------+--------+---------+-------+--------------------+\n",
      "|  278519|Air_India|AI-559|  Hyderabad| Early_Morning|  one|       Night|          Mumbai|   14.75|       22|Economy|        [14.75,22.0]|\n",
      "|  264230|  Vistara|UK-720|    Kolkata| Early_Morning|  one|     Evening|          Mumbai|    9.33|        6|Economy|          [9.33,6.0]|\n",
      "|  260097|  Vistara|UK-852|  Bangalore|       Morning|  one|     Evening|         Chennai|   10.42|       27|Economy|        [10.42,27.0]|\n",
      "|  218935|  Vistara|UK-747|      Delhi| Early_Morning| zero|     Morning|         Kolkata|    2.08|       47|Economy|         [2.08,47.0]|\n",
      "|  211085|Air_India|AI-762|      Delhi|         Night|  one|       Night|          Mumbai|   23.83|       41|Economy|        [23.83,41.0]|\n",
      "|  251748|Air_India|AI-505|  Bangalore|       Morning|  one|       Night|          Mumbai|   11.17|       37|Economy|        [11.17,37.0]|\n",
      "|  292760|Air_India|AI-430|    Chennai|       Morning|  one|       Night|          Mumbai|   11.33|       39|Economy|        [11.33,39.0]|\n",
      "|  292966|Air_India|AI-440|    Chennai| Early_Morning|  one|       Night|          Mumbai|   15.08|       42|Economy|        [15.08,42.0]|\n",
      "|  245610|Air_India|AI-565|  Bangalore|     Afternoon|  one|     Morning|           Delhi|   18.75|       12|Economy|        [18.75,12.0]|\n",
      "|  261821|Air_India|AI-773|    Kolkata|       Evening|  one|   Afternoon|           Delhi|    19.0|       11|Economy|         [19.0,11.0]|\n",
      "+--------+---------+------+-----------+--------------+-----+------------+----------------+--------+---------+-------+--------------------+\n",
      "only showing top 10 rows\n",
      "\n"
     ]
    }
   ],
   "source": [
    "output.show(10)"
   ]
  },
  {
   "cell_type": "code",
   "execution_count": 79,
   "id": "d6145a35",
   "metadata": {},
   "outputs": [],
   "source": [
    "train_data,test_data=finalized_data.randomSplit([0.75,0.25])"
   ]
  },
  {
   "cell_type": "code",
   "execution_count": 78,
   "id": "63db7502",
   "metadata": {},
   "outputs": [],
   "source": [
    "from pyspark.ml.classification import LogisticRegression\n",
    "from pyspark.ml.regression import LinearRegression"
   ]
  },
  {
   "cell_type": "code",
   "execution_count": 80,
   "id": "42e0122f",
   "metadata": {},
   "outputs": [],
   "source": [
    "regressor=LinearRegression(featuresCol='Independent features',labelCol='class')"
   ]
  },
  {
   "cell_type": "code",
   "execution_count": 81,
   "id": "d42de7e6",
   "metadata": {},
   "outputs": [],
   "source": [
    "model=regressor.fit(train_data)"
   ]
  },
  {
   "cell_type": "code",
   "execution_count": 83,
   "id": "f1346740",
   "metadata": {},
   "outputs": [
    {
     "data": {
      "text/plain": [
       "DenseVector([-0.0003, -0.0004])"
      ]
     },
     "execution_count": 83,
     "metadata": {},
     "output_type": "execute_result"
    }
   ],
   "source": [
    "model.coefficients"
   ]
  },
  {
   "cell_type": "code",
   "execution_count": 84,
   "id": "f7806ad0",
   "metadata": {},
   "outputs": [
    {
     "data": {
      "text/plain": [
       "1.505072327335724"
      ]
     },
     "execution_count": 84,
     "metadata": {},
     "output_type": "execute_result"
    }
   ],
   "source": [
    "model.intercept"
   ]
  },
  {
   "cell_type": "code",
   "execution_count": 87,
   "id": "f72df068",
   "metadata": {},
   "outputs": [],
   "source": [
    "# from sklearn.linear_model import LogisticRegression\n",
    "pred_results=model.evaluate(test_data)"
   ]
  },
  {
   "cell_type": "code",
   "execution_count": 90,
   "id": "e5839ad8",
   "metadata": {},
   "outputs": [
    {
     "name": "stdout",
     "output_type": "stream",
     "text": [
      "+--------------------+-----+------------------+\n",
      "|Independent features|class|        prediction|\n",
      "+--------------------+-----+------------------+\n",
      "|         [1.42,28.0]|    1|1.4944189470607994|\n",
      "|         [1.58,20.0]|    1| 1.497293931588421|\n",
      "|          [1.75,6.0]|    1|1.5023579842022172|\n",
      "|          [2.0,33.0]|    1|1.4924191345536573|\n",
      "|          [2.0,46.0]|    1|1.4876696872460982|\n",
      "|         [2.08,17.0]|    1| 1.498240732024446|\n",
      "|         [2.08,44.0]|    1| 1.488376495308746|\n",
      "|         [2.17,32.0]|    1|1.4927337398598943|\n",
      "|         [2.33,13.0]|    1|1.4996274874939122|\n",
      "|         [2.58,22.0]|    1| 1.496264795655819|\n",
      "|         [4.75,32.0]|    1|1.4919637343927818|\n",
      "|         [5.33,35.0]|    1| 1.490694606086803|\n",
      "|         [5.42,13.0]|    1| 1.498705271643766|\n",
      "|         [5.58,48.0]|    1| 1.485870545846384|\n",
      "|         [6.17,29.0]|    1| 1.492635959235883|\n",
      "|         [6.17,34.0]|    1|1.4908092487329758|\n",
      "|         [6.17,40.0]|    1| 1.488617196129487|\n",
      "|         [6.33,26.0]|    1|1.4936842332605973|\n",
      "|         [6.58,37.0]|    1|1.4895908572213414|\n",
      "|         [6.67,36.0]|    1|1.4899293386660935|\n",
      "|         [6.67,43.0]|    1| 1.487371943962023|\n",
      "|         [6.92,36.0]|    1|1.4898547257332337|\n",
      "|         [7.08,41.0]|    1| 1.487980262953296|\n",
      "|         [7.33,38.0]|    1|1.4890016763221807|\n",
      "|         [7.33,45.0]|    1|1.4864442816181103|\n",
      "|         [7.42,28.0]|    1|1.4926282366721662|\n",
      "|          [8.0,34.0]|    1|1.4902630820644427|\n",
      "|          [8.08,7.0]|    1|1.5001034426416275|\n",
      "|          [8.25,4.0]|    1|1.5011487321490273|\n",
      "|          [8.42,7.0]|    1|1.5000019690529383|\n",
      "|          [8.5,44.0]|    1|1.4864604351929083|\n",
      "|         [8.58,15.0]|    1|1.4970314799712563|\n",
      "|         [8.58,31.0]|    1|1.4911860063619524|\n",
      "|           [9.0,6.0]|    1|1.5001942091492853|\n",
      "|          [9.0,48.0]|    1| 1.484849840924863|\n",
      "|         [9.33,46.0]|    1| 1.485482036054651|\n",
      "|         [9.75,40.0]|    1|1.4875487389309356|\n",
      "|         [9.92,22.0]|    1|1.4940741599470577|\n",
      "|         [9.92,28.0]|    1|1.4918821073435689|\n",
      "|        [10.17,14.0]|    1|1.4969222838188498|\n",
      "|        [10.42,27.0]|    1|1.4920982235784308|\n",
      "|          [10.5,8.0]|    1| 1.499015847350964|\n",
      "|        [10.75,22.0]|    1|1.4938264450099634|\n",
      "|         [11.0,36.0]|    1| 1.488637042668963|\n",
      "|        [11.08,26.0]|    1|1.4922665875362626|\n",
      "|        [11.17,26.0]|    1|1.4922397268804333|\n",
      "|         [11.25,5.0]|    1|1.4998880348541292|\n",
      "|        [11.33,17.0]|    1|1.4954800535086363|\n",
      "|         [11.5,24.0]|    1|1.4928719220102213|\n",
      "|        [11.58,39.0]|    1| 1.487367914362984|\n",
      "|        [11.67,22.0]|    1|1.4935518694170398|\n",
      "|         [12.0,11.0]|    1|1.4974721434520613|\n",
      "|         [12.08,5.0]|    1| 1.499640319917035|\n",
      "|        [12.08,20.0]|    1|1.4941601884083127|\n",
      "|        [12.42,10.0]|    1|1.4977121358254384|\n",
      "|        [12.42,38.0]|    1|1.4874825570091568|\n",
      "|        [12.75,34.0]|    1| 1.488845436340108|\n",
      "|        [12.83,35.0]|    1|1.4884562181010113|\n",
      "|        [12.92,13.0]|    1|1.4964668836579744|\n",
      "|          [13.0,7.0]|    1|1.4986350601229483|\n",
      "|        [13.33,43.0]|    1|  1.48538425543064|\n",
      "|        [13.58,15.0]|    1| 1.495539221314062|\n",
      "|        [13.58,37.0]|    1|1.4875016951012692|\n",
      "|        [14.08,27.0]|    1|1.4910058902413645|\n",
      "|        [14.17,28.0]|    1|1.4906136874849536|\n",
      "|        [14.42,32.0]|    1| 1.489077706149768|\n",
      "|        [14.42,41.0]|    1|1.4857896272445346|\n",
      "|        [14.42,46.0]|    1|1.4839629167416273|\n",
      "|        [14.58,22.0]|    1|1.4926833748785526|\n",
      "|        [14.58,30.0]|    1|1.4897606380739008|\n",
      "|        [15.08,16.0]|    1| 1.494726201616322|\n",
      "|        [15.08,17.0]|    1|1.4943608595157405|\n",
      "|        [15.08,49.0]|    1|1.4826699122971332|\n",
      "|          [15.5,9.0]|    1| 1.497158246593188|\n",
      "|        [15.58,14.0]|    1|1.4953076599517656|\n",
      "|         [15.67,9.0]|    1|1.4971075097988435|\n",
      "|        [15.83,29.0]|    1|1.4897529155101836|\n",
      "|        [16.17,28.0]|    1| 1.490016784022076|\n",
      "|        [16.17,40.0]|    1| 1.485632678815098|\n",
      "|        [16.33,45.0]|    1|1.4837582160351603|\n",
      "|        [16.42,34.0]|    1|1.4877501184857271|\n",
      "|        [16.83,19.0]|    1|1.4931078847845596|\n",
      "|        [17.17,17.0]|    1|1.4937370953970333|\n",
      "|        [17.25,46.0]|    1| 1.483118298341655|\n",
      "|         [17.33,6.0]|    1|1.4977081062263993|\n",
      "|         [17.67,7.0]|    1|1.4972412905371286|\n",
      "|        [17.67,37.0]|    1|1.4862810275196843|\n",
      "|         [17.75,7.0]|    1|1.4972174143986134|\n",
      "|         [18.58,8.0]|    1|1.4966043573609378|\n",
      "|         [19.0,11.0]|    1| 1.495382981331989|\n",
      "|         [19.0,44.0]|    1|   1.4833266920128|\n",
      "|        [19.92,15.0]|    1|1.4936470373367394|\n",
      "|        [20.25,38.0]|    1|1.4851456799519904|\n",
      "|        [20.42,43.0]|    1|1.4832682326547384|\n",
      "|        [23.33,27.0]|    1| 1.488245211725555|\n",
      "|        [23.67,29.0]|    1|1.4874130539357027|\n",
      "|        [23.75,21.0]|    1|1.4903119146018395|\n",
      "|        [23.83,10.0]|    1|1.4943068015697207|\n",
      "|        [24.25,46.0]|    1| 1.481029136221583|\n",
      "|         [24.33,8.0]|    1|1.4948882599051643|\n",
      "|        [25.17,38.0]|    1| 1.483677297433311|\n",
      "|        [25.67,38.0]|    1|1.4835280715675916|\n",
      "|        [26.17,41.0]|    1|1.4822828194001278|\n",
      "|         [26.58,4.0]|    1|1.4956781119117526|\n",
      "|        [26.83,11.0]|    1|1.4930461042748226|\n",
      "|         [27.33,5.0]|    1| 1.495088931012592|\n",
      "|         [28.0,47.0]|    1|1.4795446001281058|\n",
      "|         [1.58,49.0]|    1| 1.486699010671558|\n",
      "|         [2.08,27.0]|    2|1.4945873110186312|\n",
      "|         [2.08,31.0]|    2|1.4931259426163053|\n",
      "|         [2.17,40.0]|    1|1.4898110030552423|\n",
      "|         [2.33,49.0]|    1|1.4864751718729787|\n",
      "|         [2.42,26.0]|    1|1.4948511795305235|\n",
      "|         [2.67,11.0]|    2|1.5002566981063858|\n",
      "|          [2.92,9.0]|    2| 1.500912769374689|\n",
      "|         [2.92,31.0]|    2|1.4928752431618966|\n",
      "|          [4.67,6.0]|    1|1.5014865051464157|\n",
      "|         [5.25,38.0]|    1|1.4896224559235736|\n",
      "|         [5.83,20.0]|    2|1.4960255117298058|\n",
      "|          [5.92,6.0]|    2| 1.501113440482117|\n",
      "|          [6.0,41.0]|    2|  1.48830259082325|\n",
      "|         [6.17,12.0]|    2|1.4988467749457683|\n",
      "|         [6.92,24.0]|    2|1.4942388309402115|\n",
      "|         [7.25,42.0]|    1|  1.48756418405837|\n",
      "|          [7.83,5.0]|    2|1.5009087397756502|\n",
      "|          [8.0,10.0]|    1|1.4990312924783982|\n",
      "|         [8.08,26.0]|    2|1.4931619427305793|\n",
      "|         [8.08,27.0]|    2| 1.492796600629998|\n",
      "|         [8.08,34.0]|    2|1.4902392059259275|\n",
      "|         [8.25,39.0]|    2|1.4883617586286755|\n",
      "|         [8.25,45.0]|    2|1.4861697060251866|\n",
      "|         [8.33,32.0]|    2|1.4908952771942308|\n",
      "|         [8.33,39.0]|    1|1.4883378824901603|\n",
      "|          [8.42,6.0]|    2|1.5003673111535198|\n",
      "|         [8.75,14.0]|    2|1.4973460852774931|\n",
      "|         [8.83,18.0]|    2| 1.495860840736652|\n",
      "|         [9.08,42.0]|    2|1.4870180173898369|\n",
      "|         [9.17,12.0]|    2|1.4979514197514516|\n",
      "|         [9.17,27.0]|    2|1.4924712882427296|\n",
      "|         [9.17,36.0]|    2|1.4891832093374961|\n",
      "|         [9.25,31.0]|    1|1.4909860437018885|\n",
      "|         [9.25,35.0]|    2|1.4895246752995626|\n",
      "|         [9.33,18.0]|    2|1.4957116148709326|\n",
      "|         [9.67,12.0]|    1|1.4978021938857322|\n",
      "|         [9.67,19.0]|    2| 1.495244799181662|\n",
      "|         [9.83,36.0]|    1|1.4889862311947466|\n",
      "|         [9.92,47.0]|    1|1.4849406074325207|\n",
      "|         [10.08,4.0]|    2|1.5006025654804942|\n",
      "|        [10.17,42.0]|    2|1.4866927050025684|\n",
      "|        [10.42,35.0]|    2| 1.489175486773779|\n",
      "|          [10.5,8.0]|    1| 1.499015847350964|\n",
      "|        [10.75,18.0]|    2|1.4952878134122893|\n",
      "|        [10.83,17.0]|    2|1.4956292793743557|\n",
      "|        [11.25,47.0]|    2| 1.484543666629707|\n",
      "|        [11.42,16.0]|    2|1.4958185349533883|\n",
      "|        [11.42,18.0]|    2|1.4950878507522254|\n",
      "|        [11.67,11.0]|    2| 1.497570632523436|\n",
      "|        [12.08,42.0]|    2|1.4861226621955201|\n",
      "|        [12.08,47.0]|    1|1.4842959516926126|\n",
      "|        [12.25,24.0]|    1|1.4926480832116422|\n",
      "|         [12.33,5.0]|    2|1.4995657069841752|\n",
      "|        [12.42,12.0]|    1|1.4969814516242754|\n",
      "|         [12.5,41.0]|    2|1.4863626545688973|\n",
      "|        [12.83,28.0]|    2|1.4910136128050817|\n",
      "|        [12.92,33.0]|    2|1.4891600416463449|\n",
      "|        [13.17,19.0]|    2|1.4942002181216258|\n",
      "|        [13.42,33.0]|    2|1.4890108157806254|\n",
      "|         [13.5,37.0]|    1|1.4875255712397843|\n",
      "|        [13.58,48.0]|    2|1.4834829319948728|\n",
      "|        [13.67,10.0]|    1|1.4973390711611396|\n",
      "|        [13.67,26.0]|    1| 1.491493597551836|\n",
      "|        [13.83,21.0]|    2|1.4932725557777131|\n",
      "|        [13.92,49.0]|    2|1.4830161163056022|\n",
      "|         [14.0,23.0]|    2|1.4924911347822056|\n",
      "|         [14.0,35.0]|    2| 1.488107029575228|\n",
      "|         [14.17,6.0]|    2|1.4986512136977461|\n",
      "|        [14.33,11.0]|    1|1.4967767509178085|\n",
      "|        [14.67,30.0]|    2|1.4897337774180712|\n",
      "|         [14.75,3.0]|    2| 1.499574137995256|\n",
      "|        [14.75,19.0]|    2|1.4937286643859524|\n",
      "|        [14.75,35.0]|    2|1.4878831907766488|\n",
      "|        [14.92,26.0]|    2|1.4911205328875374|\n",
      "|        [14.92,46.0]|    2|1.4838136908759079|\n",
      "|        [15.08,16.0]|    2| 1.494726201616322|\n",
      "|        [15.25,18.0]|    1|1.4939447806208144|\n",
      "|        [15.75,43.0]|    1|1.4846620022405579|\n",
      "|          [16.5,6.0]|    2|1.4979558211634936|\n",
      "|          [16.5,6.0]|    2|1.4979558211634936|\n",
      "|         [16.92,6.0]|    2|1.4978304714362893|\n",
      "|         [16.92,9.0]|    1|1.4967344451345448|\n",
      "|        [17.33,48.0]|    2|1.4823637380019772|\n",
      "|        [17.58,11.0]|    1|1.4958067827906323|\n",
      "|        [17.67,43.0]|    1|1.4840889749161954|\n",
      "|        [17.83,10.0]|    2| 1.496097511958354|\n",
      "|        [17.83,32.0]|    2|1.4880599857455614|\n",
      "|        [18.08,30.0]|    2|1.4887160570138647|\n",
      "|         [18.5,21.0]|    2|1.4918787861918936|\n",
      "|        [19.42,36.0]|    1|1.4861240790902477|\n",
      "|        [21.58,20.0]|    2|1.4913248969596433|\n",
      "|         [22.25,8.0]|    2|1.4955090395065571|\n",
      "|        [22.25,47.0]|    2|1.4812606975838793|\n",
      "|        [22.33,21.0]|    1|1.4907357160604828|\n",
      "|        [22.33,36.0]|    1|1.4852555845517605|\n",
      "|         [22.92,4.0]|    1| 1.496770445248819|\n",
      "|        [23.33,22.0]|    2|1.4900719222284624|\n",
      "|        [24.67,19.0]|    2|1.4907680232100786|\n",
      "|        [24.75,47.0]|    2| 1.480514568255282|\n",
      "|        [24.83,45.0]|    1|  1.48122137631793|\n",
      "|        [24.92,40.0]|    2| 1.483021226165008|\n",
      "|          [25.0,3.0]|    2|1.4965150077480076|\n",
      "|        [25.42,19.0]|    2|1.4905441844114995|\n",
      "|        [25.58,38.0]|    2|1.4835549322234212|\n",
      "|        [25.92,16.0]|    2|1.4914909848475246|\n",
      "|        [25.92,21.0]|    2|1.4896642743446171|\n",
      "|        [26.33,10.0]|    2|1.4935606722411234|\n",
      "|          [26.5,4.0]|    1|1.4957019880502678|\n",
      "|        [26.92,10.0]|    2|1.4933845857195747|\n",
      "|        [26.92,15.0]|    1|1.4915578752166672|\n",
      "|          [28.0,9.0]|    2| 1.493427599950202|\n",
      "|          [2.08,4.0]|    2|1.5029901793320053|\n",
      "|         [2.08,16.0]|    2|1.4986060741250276|\n",
      "|         [2.08,44.0]|    2| 1.488376495308746|\n",
      "|         [2.17,14.0]|    2| 1.499309897670361|\n",
      "|         [2.17,19.0]|    2|1.4974831871674534|\n",
      "|         [2.17,25.0]|    2|1.4952911345639646|\n",
      "|         [2.17,39.0]|    2|1.4901763451558239|\n",
      "|         [2.17,40.0]|    2|1.4898110030552423|\n",
      "|         [2.33,43.0]|    2|1.4886672244764678|\n",
      "|         [2.75,36.0]|    2|1.4910992694533338|\n",
      "|         [2.83,31.0]|    2|1.4929021038177261|\n",
      "|         [3.67,13.0]|    2| 1.499227562173784|\n",
      "|         [4.67,35.0]|    2|1.4908915842295527|\n",
      "|         [4.83,14.0]|    2|1.4985160160647335|\n",
      "|         [5.58,10.0]|    2|1.4997535456684803|\n",
      "|         [5.58,30.0]|    2|1.4924467036568507|\n",
      "|         [5.67,32.0]|    2|1.4916891587998582|\n",
      "|          [6.0,37.0]|    2| 1.489763959225576|\n",
      "|          [6.0,41.0]|    2|  1.48830259082325|\n",
      "|         [6.08,22.0]|    2|1.4952202145957831|\n",
      "|         [6.33,28.0]|    2|1.4929535490594343|\n",
      "|         [6.42,45.0]|    2|1.4867158726937197|\n",
      "|          [7.0,17.0]|    2|1.4967723495057668|\n",
      "|          [7.0,25.0]|    2| 1.493849612701115|\n",
      "|          [7.0,30.0]|    2|1.4920229021982074|\n",
      "|         [7.17,12.0]|    2|1.4985483232143295|\n",
      "|         [7.33,48.0]|    2| 1.485348255316366|\n",
      "|         [7.42,44.0]|    2|1.4867827630628623|\n",
      "|         [7.58,19.0]|    2|1.4958685633003692|\n",
      "|          [7.83,5.0]|    2|1.5009087397756502|\n",
      "|           [8.0,7.0]|    2|1.5001273187801427|\n",
      "|         [8.08,48.0]|    2|1.4851244165177868|\n",
      "|          [8.33,9.0]|    2|1.4992981455076049|\n",
      "|          [8.5,42.0]|    2|1.4871911193940712|\n",
      "|         [8.67,20.0]|    2|1.4951779088125192|\n",
      "|          [9.0,30.0]|    2|1.4914259987353296|\n",
      "|         [9.17,17.0]|    2|1.4961247092485443|\n",
      "|         [9.58,35.0]|    2|1.4894261862281877|\n",
      "|         [9.92,21.0]|    2|1.4944395020476393|\n",
      "|        [10.17,49.0]|    2| 1.484135310298498|\n",
      "|         [10.5,23.0]|    2|1.4935357158422418|\n",
      "|        [10.67,28.0]|    2|1.4916582685449897|\n",
      "|        [10.67,47.0]|    2|1.4847167686339415|\n",
      "|        [10.92,23.0]|    2|1.4934103661150373|\n",
      "|         [11.0,26.0]|    2|1.4922904636747778|\n",
      "|        [11.08,17.0]|    2| 1.495554666441496|\n",
      "|        [11.08,48.0]|    2|  1.48422906132347|\n",
      "|        [11.17,32.0]|    2|1.4900476742769444|\n",
      "|        [11.25,14.0]|    2|1.4965999559488958|\n",
      "|        [11.42,43.0]|    2|1.4859542982376883|\n",
      "|          [11.5,8.0]|    2| 1.498717395619525|\n",
      "|         [12.0,31.0]|    2|1.4901653014404315|\n",
      "|        [12.08,13.0]|    2|1.4967175831123831|\n",
      "|        [12.08,33.0]|    2|1.4894107411007536|\n",
      "|        [12.25,22.0]|    2|1.4933787674128052|\n",
      "|        [12.25,26.0]|    2|1.4919173990104793|\n",
      "|        [12.58,13.0]|    2|1.4965683572466637|\n",
      "|        [12.67,12.0]|    2|1.4969068386914157|\n",
      "|        [13.08,17.0]|    2|1.4949577629786184|\n",
      "|        [13.33,43.0]|    2|  1.48538425543064|\n",
      "|        [13.58,27.0]|    2| 1.491155116107084|\n",
      "|        [13.75,22.0]|    2| 1.492931089815647|\n",
      "|        [13.75,23.0]|    2|1.4925657477150653|\n",
      "|        [13.83,40.0]|    2|1.4863310558666651|\n",
      "|        [13.92,14.0]|    2| 1.495803089825954|\n",
      "|         [14.0,19.0]|    2|1.4939525031845315|\n",
      "|        [14.42,48.0]|    2|1.4832322325404643|\n",
      "|         [14.5,13.0]|    2| 1.495995329922301|\n",
      "|        [14.75,39.0]|    2|1.4864218223743229|\n",
      "|         [15.08,6.0]|    2|1.4983796226221369|\n",
      "|        [15.08,40.0]|    2|1.4859579912023664|\n",
      "|        [15.17,23.0]|    2| 1.492141946256422|\n",
      "|        [15.17,33.0]|    2|1.4884885252506073|\n",
      "|         [15.42,4.0]|    2|1.4990088332346105|\n",
      "|        [15.42,10.0]|    2|1.4968167806311217|\n",
      "|         [15.5,18.0]|    2|1.4938701676879547|\n",
      "|        [15.58,13.0]|    2| 1.495673002052347|\n",
      "|        [15.58,28.0]|    2|1.4901928705436247|\n",
      "|        [15.67,34.0]|    2|1.4879739572843065|\n",
      "|        [15.75,29.0]|    2|1.4897767916486988|\n",
      "|         [15.83,9.0]|    2|1.4970597575218132|\n",
      "|        [15.83,33.0]|    2|1.4882915471078577|\n",
      "|        [16.08,34.0]|    2|1.4878515920744164|\n",
      "|        [16.92,14.0]|    2|1.4949077346316375|\n",
      "|        [17.42,49.0]|    2| 1.481971535245566|\n",
      "|        [17.67,18.0]|    2|1.4932225274307322|\n",
      "|        [17.83,45.0]|    2| 1.483310538438002|\n",
      "|        [18.17,31.0]|    2|1.4883238542574537|\n",
      "|        [19.58,27.0]|    2|1.4893644057184507|\n",
      "|        [20.17,15.0]|    2|1.4935724244038795|\n",
      "|          [21.0,4.0]|    2|1.4973434725731816|\n",
      "|        [21.08,18.0]|    2|1.4922048070265257|\n",
      "|        [21.17,48.0]|    2|1.4812176833532518|\n",
      "|        [21.25,25.0]|    2|1.4895966755281107|\n",
      "|        [21.83,41.0]|    2|1.4835780999145725|\n",
      "|        [22.33,37.0]|    2| 1.484890242451179|\n",
      "|        [22.33,40.0]|    2|1.4837942161494346|\n",
      "|         [22.67,7.0]|    2|1.4957490318799342|\n",
      "|         [23.0,44.0]|    2|1.4821328850870445|\n",
      "|        [23.92,16.0]|    2|1.4920878883104023|\n",
      "|        [23.92,36.0]|    2|1.4847810462987727|\n",
      "|         [24.5,25.0]|    2|1.4886267074009345|\n",
      "|        [24.83,20.0]|    2|1.4903549288324671|\n",
      "|        [25.08,20.0]|    2|1.4902803158996072|\n",
      "|         [25.5,32.0]|    2|1.4857708609654252|\n",
      "|        [25.58,16.0]|    2|1.4915924584362137|\n",
      "|        [25.58,44.0]|    2|1.4813628796199323|\n",
      "|        [25.67,19.0]|    2|1.4904695714786398|\n",
      "|         [26.5,10.0]|    2| 1.493509935446779|\n",
      "|         [26.5,47.0]|    2| 1.479992277725264|\n",
      "|        [27.75,31.0]|    2|1.4854646866702692|\n",
      "|        [27.92,36.0]|    2|1.4835872393730172|\n",
      "|         [28.0,23.0]|    2|1.4883128105420613|\n",
      "|         [1.75,19.0]|    2| 1.497608536894658|\n",
      "|          [2.0,15.0]|    1| 1.498995292364124|\n",
      "|          [2.0,21.0]|    1|1.4968032397606352|\n",
      "|         [2.08,28.0]|    2|1.4942219689180496|\n",
      "|          [2.17,7.0]|    2|1.5018672923744314|\n",
      "|          [2.33,5.0]|    2| 1.502550224298564|\n",
      "|          [2.5,36.0]|    2|1.4911738823861935|\n",
      "|          [2.75,5.0]|    2|1.5024248745713598|\n",
      "|         [2.75,12.0]|    1|1.4998674798672893|\n",
      "|         [2.83,11.0]|    1|1.5002089458293557|\n",
      "|         [2.83,31.0]|    1|1.4929021038177261|\n",
      "|           [5.5,6.0]|    2|1.5012387902093214|\n",
      "|         [5.67,19.0]|    1|1.4964386061074175|\n",
      "|          [6.0,34.0]|    1|1.4908599855273204|\n",
      "|          [6.08,7.0]|    2|1.5007003461045052|\n",
      "|         [6.08,30.0]|    1| 1.492297477791131|\n",
      "|          [6.33,7.0]|    1|1.5006257331716455|\n",
      "|         [6.33,25.0]|    2|1.4940495753611789|\n",
      "|         [6.67,39.0]|    2| 1.488833312364349|\n",
      "|          [6.92,6.0]|    2| 1.500814988750678|\n",
      "|         [6.92,34.0]|    1|1.4905854099343967|\n",
      "|         [7.17,40.0]|    2| 1.488318744398048|\n",
      "|         [7.25,32.0]|    2|1.4912176050641848|\n",
      "|          [7.5,23.0]|    1|1.4944310710365583|\n",
      "|          [7.5,38.0]|    1|1.4889509395278362|\n",
      "|         [7.58,45.0]|    1|1.4863696686852506|\n",
      "|          [7.67,5.0]|    1|1.5009564920526803|\n",
      "|          [7.67,7.0]|    1|1.5002258078515174|\n",
      "|          [7.75,3.0]|    2|1.5016633001153283|\n",
      "|         [7.83,30.0]|    2|1.4917751872611131|\n",
      "|           [8.0,3.0]|    2|1.5015886871824686|\n",
      "|          [8.08,7.0]|    1|1.5001034426416275|\n",
      "|         [8.08,31.0]|    2| 1.491335232227672|\n",
      "|         [8.08,42.0]|    1|1.4873164691212757|\n",
      "|         [8.33,31.0]|    2|1.4912606192948121|\n",
      "|         [8.58,29.0]|    2|1.4919166905631154|\n",
      "|           [9.0,2.0]|    1|1.5016555775516112|\n",
      "|         [9.58,22.0]|    1| 1.494175633535747|\n",
      "|         [9.75,27.0]|    2| 1.492298186238495|\n",
      "|        [10.25,32.0]|    2| 1.490322249869868|\n",
      "|          [10.5,5.0]|    2|1.5001118736527084|\n",
      "|        [10.83,12.0]|    2|1.4974559898772632|\n",
      "|        [10.83,29.0]|    2| 1.491245174167378|\n",
      "|        [10.92,30.0]|    2| 1.490852971410967|\n",
      "|        [11.17,24.0]|    2|1.4929704110815962|\n",
      "|        [11.25,36.0]|    2|1.4885624297361033|\n",
      "|        [11.42,37.0]|    1|1.4881463508411772|\n",
      "|          [11.5,4.0]|    1| 1.500178764021851|\n",
      "|        [11.92,16.0]|    1| 1.495669309087669|\n",
      "|          [12.0,6.0]|    2|1.4992988539549685|\n",
      "|         [12.08,7.0]|    2| 1.498909635715872|\n",
      "|        [12.25,25.0]|    2|1.4922827411110606|\n",
      "|        [12.33,44.0]|    1|1.4853173650614975|\n",
      "|         [12.5,12.0]|    1|1.4969575754857603|\n",
      "|         [12.5,23.0]|    1|1.4929388123793639|\n",
      "|         [12.58,9.0]|    1|1.4980297256489896|\n",
      "|        [12.58,20.0]|    1|1.4940109625425932|\n",
      "|        [13.25,41.0]|    2|1.4861388157703181|\n",
      "|        [13.42,25.0]|    1|1.4919335525852773|\n",
      "|         [13.5,21.0]|    2| 1.493371044849088|\n",
      "|        [13.58,24.0]|    2|1.4922511424088285|\n",
      "|        [14.17,23.0]|    2| 1.492440397987861|\n",
      "|         [14.5,20.0]|    2|1.4934379352182305|\n",
      "|        [14.75,17.0]|    2|1.4944593485871154|\n",
      "|        [15.08,21.0]|    2|1.4928994911134146|\n",
      "|        [15.08,29.0]|    2|1.4899767543087628|\n",
      "|        [15.25,31.0]|    2|1.4891953333132553|\n",
      "|        [15.42,37.0]|    2|1.4869525439154216|\n",
      "|        [15.92,20.0]|    1|1.4930141337595875|\n",
      "|        [15.92,35.0]|    2|1.4875340022508652|\n",
      "|        [15.92,47.0]|    1|1.4831498970438874|\n",
      "|        [16.17,25.0]|    2|1.4911128103238203|\n",
      "|        [16.17,45.0]|    1|1.4838059683121907|\n",
      "|        [16.33,11.0]|    2|1.4961798474549308|\n",
      "|        [16.33,46.0]|    2| 1.483392873934579|\n",
      "|         [16.5,22.0]|    2|  1.49211034755419|\n",
      "|        [16.58,14.0]|    2|1.4950092082203266|\n",
      "|        [16.75,24.0]|    1|1.4913050504201673|\n",
      "|        [16.83,14.0]|    2|1.4949345952874669|\n",
      "|         [17.0,43.0]|    1|1.4842889375762593|\n",
      "|         [17.08,3.0]|    1|1.4988787454610035|\n",
      "|         [17.17,2.0]|    1|1.4992172269057555|\n",
      "|        [17.75,19.0]|    2|1.4928333091916357|\n",
      "|         [18.0,33.0]|    1|1.4876439068506353|\n",
      "|        [18.83,17.0]|    1|1.4932416655228447|\n",
      "|        [20.42,43.0]|    1|1.4832682326547384|\n",
      "|        [21.17,32.0]|    2|1.4870631569625554|\n",
      "|         [21.5,45.0]|    2|1.4822152205836214|\n",
      "|         [21.5,49.0]|    2|1.4807538521812955|\n",
      "|         [21.58,1.0]|    2|1.4982663968706915|\n",
      "|        [21.83,10.0]|    1|1.4949037050325984|\n",
      "|        [21.83,19.0]|    1|1.4916156261273652|\n",
      "|        [22.08,40.0]|    1|1.4838688290822943|\n",
      "|        [23.33,45.0]|    2|1.4816690539150883|\n",
      "|        [23.83,49.0]|    1| 1.480058459647043|\n",
      "|         [24.0,10.0]|    2|1.4942560647753762|\n",
      "|        [24.67,16.0]|    1|1.4918640495118232|\n",
      "|        [24.92,14.0]|    2|1.4925201207801264|\n",
      "|        [24.92,29.0]|    1|1.4870399892714041|\n",
      "|        [25.42,31.0]|    2|1.4861600792045218|\n",
      "|        [25.83,37.0]|    2|1.4838456613911428|\n",
      "|         [25.92,1.0]|    1|1.4969711163562467|\n",
      "|          [27.0,8.0]|    2|1.4940913937822224|\n",
      "|         [27.5,21.0]|    2|1.4891927206089437|\n",
      "|        [28.25,44.0]|    1|1.4805660134969905|\n",
      "|        [28.42,19.0]|    2| 1.489648829217183|\n",
      "|           [2.0,5.0]|    1|1.5026487133699389|\n",
      "|         [2.17,17.0]|    1|1.4982138713686164|\n",
      "|         [2.25,36.0]|    1|1.4912484953190532|\n",
      "|         [2.33,13.0]|    1|1.4996274874939122|\n",
      "|          [2.58,9.0]|    1|1.5010142429633784|\n",
      "|         [2.83,30.0]|    1|1.4932674459183075|\n",
      "|         [5.08,28.0]|    1| 1.493326613723733|\n",
      "|          [6.42,9.0]|    1|1.4998681883146532|\n",
      "|         [6.67,18.0]|    1|  1.49650549647656|\n",
      "|         [6.67,23.0]|    1|1.4946787859736526|\n",
      "|         [6.75,35.0]|    1|1.4902708046281596|\n",
      "|          [7.42,9.0]|    1|1.4995697365832141|\n",
      "|         [7.42,40.0]|    1|1.4882441314651882|\n",
      "|          [7.58,2.0]|    1|1.5020793790102545|\n",
      "|          [7.83,7.0]|    1|1.5001780555744872|\n",
      "|         [7.92,39.0]|    1|1.4884602477000504|\n",
      "|         [8.25,48.0]|    1| 1.485073679723442|\n",
      "|         [8.75,21.0]|    1|1.4947886905734227|\n",
      "|         [8.83,30.0]|    1|1.4914767355296743|\n",
      "|          [9.0,27.0]|    1| 1.492522025037074|\n",
      "|         [9.17,24.0]|    1| 1.493567314544474|\n",
      "|         [9.42,31.0]|    1| 1.490935306907544|\n",
      "|         [9.83,31.0]|    1|1.4908129416976539|\n",
      "|        [10.17,10.0]|    1|1.4983836522211758|\n",
      "|        [10.42,34.0]|    1|1.4895408288743606|\n",
      "|         [10.5,10.0]|    1| 1.498285163149801|\n",
      "|        [10.75,27.0]|    1|1.4919997345070561|\n",
      "|        [10.83,12.0]|    1|1.4974559898772632|\n",
      "|        [10.92,28.0]|    1|  1.49158365561213|\n",
      "|          [11.0,9.0]|    1| 1.498501279384663|\n",
      "|        [11.25,11.0]|    1|1.4976959822506404|\n",
      "|        [11.25,19.0]|    1|1.4947732454459886|\n",
      "|        [11.25,49.0]|    1| 1.483812982428544|\n",
      "|        [11.33,20.0]|    1|1.4943840272068918|\n",
      "|        [11.33,33.0]|    1|1.4896345798993327|\n",
      "|        [11.42,37.0]|    1|1.4881463508411772|\n",
      "|         [11.5,31.0]|    1|1.4903145273061509|\n",
      "|         [11.5,45.0]|    1|1.4851997378980102|\n",
      "|         [11.67,9.0]|    1|1.4983013167245989|\n",
      "|        [11.67,11.0]|    1| 1.497570632523436|\n",
      "|        [11.67,25.0]|    1|1.4924558431152952|\n",
      "|        [11.92,36.0]|    1|1.4883624670760391|\n",
      "|        [12.17,44.0]|    1|1.4853651173385276|\n",
      "|         [12.42,8.0]|    1|1.4984428200266013|\n",
      "|        [12.58,19.0]|    1|1.4943763046431748|\n",
      "|        [12.58,45.0]|    1|1.4848774100280562|\n",
      "|        [12.67,44.0]|    1|1.4852158914728082|\n",
      "|        [12.92,22.0]|    1| 1.493178804752741|\n",
      "|         [13.0,19.0]|    1|1.4942509549159704|\n",
      "|        [13.08,24.0]|    1| 1.492400368274548|\n",
      "|        [13.08,30.0]|    1| 1.490208315671059|\n",
      "|        [13.17,26.0]|    1|1.4916428234175554|\n",
      "|        [13.17,35.0]|    1|1.4883547445123222|\n",
      "|        [13.58,11.0]|    1|1.4970005897163878|\n",
      "|        [13.75,31.0]|    1|1.4896430109104135|\n",
      "|        [13.83,42.0]|    1|1.4856003716655022|\n",
      "|        [14.67,44.0]|    1|1.4846189880099305|\n",
      "|        [15.25,21.0]|    1|  1.49284875431907|\n",
      "|        [15.25,27.0]|    1|1.4906567017155812|\n",
      "|        [15.67,38.0]|    1|1.4865125888819806|\n",
      "|        [15.83,40.0]|    1|1.4857341524037873|\n",
      "|         [16.0,44.0]|    1|1.4842220472071168|\n",
      "|         [16.0,49.0]|    1|1.4823953367042093|\n",
      "|        [16.08,15.0]|    1|1.4947930919854646|\n",
      "|        [16.08,19.0]|    1|1.4933317235831387|\n",
      "|        [16.17,10.0]|    1|1.4965929418325425|\n",
      "|         [16.25,6.0]|    1|1.4980304340963533|\n",
      "|         [17.0,22.0]|    1|1.4919611216884705|\n",
      "|        [17.17,18.0]|    1|1.4933717532964519|\n",
      "|        [17.17,31.0]|    1|1.4886223059888926|\n",
      "|        [17.92,18.0]|    1|1.4931479144978725|\n",
      "|        [18.08,37.0]|    1|1.4861586623097942|\n",
      "|        [18.33,28.0]|    1| 1.489372128282168|\n",
      "|        [19.67,40.0]|    1| 1.484588097755062|\n",
      "|        [20.58,23.0]|    1|1.4905273223893378|\n",
      "|        [20.92,10.0]|    1|1.4951752961082079|\n",
      "|        [21.17,36.0]|    1|1.4856017885602295|\n",
      "|        [21.17,39.0]|    1|1.4845057622584852|\n",
      "|         [22.0,21.0]|    1|1.4908342051318575|\n",
      "|        [22.25,18.0]|    1|1.4918556185007423|\n",
      "|        [22.25,42.0]|    1|1.4830874080867866|\n",
      "|         [22.5,46.0]|    1| 1.481551426751601|\n",
      "|        [23.25,11.0]|    1|1.4941145614733737|\n",
      "|        [23.67,42.0]|    1|1.4826636066281436|\n",
      "|        [24.92,37.0]|    1|1.4841172524667523|\n",
      "|        [25.08,18.0]|    1|1.4910110001007701|\n",
      "|         [26.0,31.0]|    1|1.4859869772002872|\n",
      "|         [26.5,47.0]|    1| 1.479992277725264|\n",
      "|        [26.75,49.0]|    1|1.4791869805912414|\n",
      "|         [27.17,1.0]|    1|1.4965980516919482|\n",
      "|        [27.25,45.0]|    1| 1.480499123127848|\n",
      "|         [27.5,36.0]|    1|1.4837125891002214|\n",
      "|         [28.0,34.0]|    1| 1.484294047435665|\n",
      "|          [32.0,4.0]|    1| 1.494060503527354|\n",
      "|         [1.42,12.0]|    1| 1.500264420670103|\n",
      "|          [1.5,19.0]|    1|1.4976831498275176|\n",
      "|         [1.92,22.0]|    1|1.4964617737985688|\n",
      "|         [2.17,45.0]|    1| 1.487984292552335|\n",
      "|         [2.67,42.0]|    1|  1.48893109298836|\n",
      "|          [2.75,8.0]|    1|1.5013288482696152|\n",
      "|         [2.83,24.0]|    1|1.4954594985217964|\n",
      "|          [4.83,5.0]|    1| 1.501804094969967|\n",
      "|         [5.92,41.0]|    1| 1.488326466961765|\n",
      "|         [6.58,18.0]|    2|1.4965323571323896|\n",
      "|         [6.58,29.0]|    1|1.4925135940259933|\n",
      "|          [6.67,9.0]|    1|1.4997935753817935|\n",
      "|         [6.83,10.0]|    2|1.4993804810041818|\n",
      "|          [7.0,16.0]|    1|1.4971376916063481|\n",
      "|          [7.0,18.0]|    1|1.4964070074051852|\n",
      "|          [7.0,27.0]|    1|1.4931189284999518|\n",
      "|         [7.08,19.0]|    2|1.4960177891660886|\n",
      "|         [7.17,43.0]|    1|1.4872227180963036|\n",
      "|         [7.33,40.0]|    2|1.4882709921210178|\n",
      "|         [7.42,33.0]|    1|1.4908015261692587|\n",
      "|          [7.5,10.0]|    1|1.4991805183441176|\n",
      "|          [8.08,5.0]|    1|1.5008341268427905|\n",
      "|         [8.33,35.0]|    1|1.4897992508924862|\n",
      "|          [9.0,28.0]|    1|1.4921566829364927|\n",
      "|         [9.17,42.0]|    1|1.4869911567340073|\n",
      "|         [9.25,14.0]|    1|1.4971968594117737|\n",
      "|         [9.58,26.0]|    1| 1.492714265133421|\n",
      "|         [9.67,30.0]|    2|1.4912260360752656|\n",
      "|         [9.83,49.0]|    1|1.4842367838871873|\n",
      "|        [10.17,16.0]|    1|1.4961915996176869|\n",
      "|        [10.25,19.0]|    2|1.4950716971774274|\n",
      "|         [10.5,25.0]|    1|1.4928050316410788|\n",
      "|         [10.5,41.0]|    1| 1.486959558031775|\n",
      "|         [10.83,6.0]|    2|1.4996480424807521|\n",
      "|        [10.83,49.0]|    1|1.4839383321557484|\n",
      "|        [10.92,23.0]|    1|1.4934103661150373|\n",
      "|        [10.92,37.0]|    1|1.4882955767068966|\n",
      "|        [10.92,37.0]|    1|1.4882955767068966|\n",
      "|         [11.0,39.0]|    1|1.4875410163672185|\n",
      "|         [11.33,4.0]|    1|1.5002295008161957|\n",
      "|        [11.42,43.0]|    1|1.4859542982376883|\n",
      "|         [11.5,25.0]|    1|  1.49250657990964|\n",
      "|         [11.67,2.0]|    1|1.5008587114286693|\n",
      "|        [12.08,35.0]|    1|1.4886800568995906|\n",
      "|         [12.25,5.0]|    1|1.4995895831226904|\n",
      "|         [12.67,9.0]|    1|  1.49800286499316|\n",
      "|        [12.67,13.0]|    1|1.4965414965908341|\n",
      "|        [13.25,48.0]|    1|1.4835814210662477|\n",
      "|        [13.42,19.0]|    2|1.4941256051887661|\n",
      "|         [13.5,17.0]|    1| 1.494832413251414|\n",
      "|        [13.83,33.0]|    1|1.4888884505707354|\n",
      "|        [13.92,11.0]|    2|1.4968991161276985|\n",
      "|         [14.0,16.0]|    1| 1.495048529486276|\n",
      "|        [14.75,26.0]|    1| 1.491171269681882|\n",
      "|        [14.75,42.0]|    1|1.4853257960725783|\n",
      "|        [14.92,18.0]|    1|1.4940432696921893|\n",
      "|         [15.0,19.0]|    1|1.4936540514530927|\n",
      "|        [15.17,12.0]|    2|1.4961607093628184|\n",
      "|        [15.25,49.0]|    1|1.4826191755027884|\n",
      "|        [15.83,44.0]|    1|1.4842727840014613|\n",
      "|         [16.0,30.0]|    2|1.4893368366152575|\n",
      "|        [16.08,10.0]|    2|1.4966198024883721|\n",
      "|        [16.08,41.0]|    1|1.4852941973703462|\n",
      "|        [17.17,14.0]|    1|1.4948331216987778|\n",
      "|        [17.42,21.0]|    2|1.4922011140618476|\n",
      "|        [17.83,48.0]|    1|1.4822145121362578|\n",
      "|        [18.17,13.0]|    1|1.4949000120679203|\n",
      "|        [18.42,16.0]|    1| 1.493729372833316|\n",
      "|          [18.5,3.0]|    1|1.4984549440023602|\n",
      "|        [18.67,32.0]|    1|1.4878092862911527|\n",
      "|          [19.0,9.0]|    1| 1.496113665533152|\n",
      "|         [19.0,26.0]|    2|1.4899028498232667|\n",
      "|        [19.25,13.0]|    2|1.4945776841979663|\n",
      "|        [19.33,18.0]|    1|1.4927270975565439|\n",
      "|         [20.08,3.0]|    1|1.4979833902666868|\n",
      "|        [20.42,16.0]|    2|1.4931324693704384|\n",
      "|        [20.42,39.0]|    1|1.4847296010570643|\n",
      "|          [21.0,4.0]|    1|1.4973434725731816|\n",
      "|         [21.17,5.0]|    1|1.4969273936782554|\n",
      "|        [21.42,47.0]|    1|1.4815084125209736|\n",
      "|        [22.92,10.0]|    1|  1.49457839264533|\n",
      "|          [23.0,7.0]|    2|1.4956505428085594|\n",
      "|         [23.0,26.0]|    2|1.4887090428975112|\n",
      "|        [23.17,31.0]|    2|1.4868315956002593|\n",
      "|        [23.25,24.0]|    1|1.4893651141658144|\n",
      "|         [23.83,5.0]|    1| 1.496133512072628|\n",
      "|         [24.0,12.0]|    2|1.4935253805742132|\n",
      "|         [24.0,36.0]|    1|1.4847571701602575|\n",
      "|        [24.08,45.0]|    1|1.4814452151165092|\n",
      "|        [24.08,45.0]|    2|1.4814452151165092|\n",
      "|        [24.17,14.0]|    1|1.4927439595787055|\n",
      "|        [24.33,25.0]|    1| 1.488677444195279|\n",
      "|        [24.83,35.0]|    1|1.4848747973237448|\n",
      "|        [25.75,47.0]|    1|1.4802161165238432|\n",
      "|        [25.92,33.0]|    1|1.4852801691376394|\n",
      "|        [25.92,39.0]|    1|1.4830881165341505|\n",
      "|        [26.17,29.0]|    1|1.4866669246071056|\n",
      "|         [26.25,2.0]|    1|1.4965072851842904|\n",
      "|         [26.5,10.0]|    2| 1.493509935446779|\n",
      "|         [1.75,38.0]|    1|1.4906670369836097|\n",
      "|         [1.83,16.0]|    1|1.4986806870578873|\n",
      "|         [1.92,27.0]|    2|1.4946350632956613|\n",
      "|          [2.17,7.0]|    1|1.5018672923744314|\n",
      "|          [2.17,9.0]|    1|1.5011366081732684|\n",
      "|         [2.17,15.0]|    2|1.4989445555697793|\n",
      "|         [2.17,39.0]|    2|1.4901763451558239|\n",
      "|         [2.33,48.0]|    2|1.4868405139735603|\n",
      "|         [2.58,21.0]|    1|1.4966301377564006|\n",
      "|         [2.67,47.0]|    1|1.4871043824854526|\n",
      "|         [2.75,39.0]|    2|1.4900032431515893|\n",
      "|         [3.92,37.0]|    2|1.4903847388269689|\n",
      "|         [5.17,10.0]|    1|1.4998759108783701|\n",
      "|         [5.42,39.0]|    1|1.4892063770286474|\n",
      "|         [5.58,26.0]|    2|1.4939080720591766|\n",
      "|         [5.58,38.0]|    1|1.4895239668521987|\n",
      "|         [5.58,38.0]|    1|1.4895239668521987|\n",
      "|         [5.83,29.0]|    2|1.4927374328245724|\n",
      "|          [6.17,9.0]|    1| 1.499942801247513|\n",
      "|         [6.33,48.0]|    1|1.4856467070478048|\n",
      "|         [6.42,30.0]|    2| 1.492196004202442|\n",
      "|         [6.67,23.0]|    1|1.4946787859736526|\n",
      "|          [7.0,18.0]|    1|1.4964070074051852|\n",
      "|         [7.08,20.0]|    1| 1.495652447065507|\n",
      "|         [7.25,28.0]|    2|1.4926789734665107|\n",
      "|          [7.33,8.0]|    2|1.4999619393396253|\n",
      "|         [7.58,33.0]|    2|1.4907537738922285|\n",
      "|         [7.83,18.0]|    2|1.4961592924680909|\n",
      "|          [8.0,14.0]|    2|1.4975699240760723|\n",
      "|         [8.17,15.0]|    1|1.4971538451811461|\n",
      "|         [8.17,39.0]|    2|1.4883856347671907|\n",
      "|         [8.58,39.0]|    2|1.4882632695573006|\n",
      "|         [8.92,11.0]|    1| 1.498391374784893|\n",
      "|         [8.92,13.0]|    2|  1.49766069058373|\n",
      "|         [9.25,48.0]|    2|1.4847752279920032|\n",
      "|         [9.33,19.0]|    2| 1.495346272770351|\n",
      "|         [9.33,27.0]|    2|1.4924235359656992|\n",
      "|         [9.42,38.0]|    2|1.4883779122034735|\n",
      "|         [9.83,18.0]|    2|1.4955623890052132|\n",
      "|        [10.17,42.0]|    2|1.4866927050025684|\n",
      "|         [10.25,7.0]|    1|1.4994558023844051|\n",
      "|         [10.5,47.0]|    2| 1.484767505428286|\n",
      "|         [10.58,5.0]|    1|1.5000879975141932|\n",
      "|        [10.83,37.0]|    2|1.4883224373627262|\n",
      "|        [10.83,45.0]|    1|1.4853997005580744|\n",
      "|        [10.92,37.0]|    1|1.4882955767068966|\n",
      "|         [11.0,41.0]|    1|1.4868103321660555|\n",
      "|         [11.0,47.0]|    2|1.4846182795625666|\n",
      "|         [11.08,5.0]|    2|1.4999387716484738|\n",
      "|         [11.25,7.0]|    1|1.4991573506529663|\n",
      "|        [11.33,23.0]|    2|1.4932880009051475|\n",
      "|        [11.42,28.0]|    1|1.4914344297464106|\n",
      "|        [11.92,21.0]|    1|1.4938425985847614|\n",
      "|         [12.0,36.0]|    2|1.4883385909375242|\n",
      "|         [12.17,7.0]|    2|1.4988827750600424|\n",
      "|         [12.25,8.0]|    2|1.4984935568209459|\n",
      "|        [12.33,14.0]|    2|1.4962776280789418|\n",
      "|        [12.58,27.0]|    2| 1.491453567838523|\n",
      "|        [12.67,39.0]|    1|1.4870426019757157|\n",
      "|         [12.75,6.0]|    1|1.4990750151563894|\n",
      "|        [12.83,15.0]|    2| 1.495763060112641|\n",
      "|         [13.17,9.0]|    1|1.4978536391274406|\n",
      "|        [13.17,18.0]|    1|1.4945655602222072|\n",
      "|        [13.25,29.0]|    2|1.4905229209772959|\n",
      "|         [13.33,2.0]|    1|1.5003632815544807|\n",
      "|         [13.5,47.0]|    1|1.4838721502339696|\n",
      "|        [13.58,45.0]|    2|1.4845789582966173|\n",
      "|        [13.67,12.0]|    1|1.4966083869599767|\n",
      "|         [13.75,2.0]|    1|1.5002379318272765|\n",
      "|        [13.92,44.0]|    1|1.4848428268085097|\n",
      "|        [14.08,47.0]|    2| 1.483699048229735|\n",
      "|         [14.17,9.0]|    1|1.4975551873960018|\n",
      "|        [14.17,33.0]|    2| 1.488786976982046|\n",
      "|        [14.33,46.0]|    1|1.4839897773974566|\n",
      "|         [14.5,49.0]|    1|1.4828430143013676|\n",
      "|        [14.58,44.0]|    1|1.4846458486657599|\n",
      "|        [15.08,21.0]|    2|1.4928994911134146|\n",
      "|        [15.25,30.0]|    2|1.4895606754138366|\n",
      "|        [15.42,41.0]|    1|1.4854911755130957|\n",
      "|        [15.67,28.0]|    2|1.4901660098877954|\n",
      "|         [16.0,18.0]|    1|1.4937209418222352|\n",
      "|        [16.08,25.0]|    2|1.4911396709796498|\n",
      "|        [16.08,47.0]|    2| 1.483102144766857|\n",
      "|        [16.17,26.0]|    1| 1.490747468223239|\n",
      "|        [16.25,11.0]|    2| 1.496203723593446|\n",
      "|        [16.33,23.0]|    1| 1.491795742247953|\n",
      "|         [16.42,5.0]|    2|1.4983450394025901|\n",
      "|        [16.42,15.0]|    2|1.4946916183967753|\n",
      "|        [17.33,17.0]|    1|1.4936893431200031|\n",
      "|        [18.08,45.0]|    2|1.4832359255051424|\n",
      "|          [19.5,3.0]|    2|1.4981564922709214|\n",
      "|          [19.5,9.0]|    2|1.4959644396674325|\n",
      "|        [22.25,15.0]|    1|1.4929516448024867|\n",
      "|        [22.33,31.0]|    2|1.4870822950546678|\n",
      "|         [23.08,8.0]|    2|1.4952613245694628|\n",
      "|         [23.33,7.0]|    1|1.4955520537371847|\n",
      "|        [23.42,11.0]|    2|1.4940638246790292|\n",
      "|        [23.92,43.0]|    1|1.4822236515947023|\n",
      "|         [24.0,29.0]|    2| 1.487314564864328|\n",
      "|        [24.33,18.0]|    2|1.4912348388993495|\n",
      "|        [24.67,32.0]|    2|1.4860185759025195|\n",
      "|         [25.17,2.0]|    2|1.4968296130542444|\n",
      "|        [26.58,31.0]|    1|1.4858138751960526|\n",
      "|         [27.08,2.0]|    1|1.4962595702471961|\n",
      "|        [27.92,21.0]|    2|1.4890673708817395|\n",
      "|         [1.25,35.0]|    2|1.4919122891510737|\n",
      "|         [2.08,10.0]|    2|1.5007981267285164|\n",
      "|         [2.08,37.0]|    2|1.4909338900128164|\n",
      "|         [2.17,12.0]|    2| 1.500040581871524|\n",
      "|         [2.17,38.0]|    2|1.4905416872564055|\n",
      "|         [2.33,22.0]|    1|1.4963394085886788|\n",
      "|         [2.58,33.0]|    1| 1.492246032549423|\n",
      "|         [2.67,25.0]|    2|1.4951419086982451|\n",
      "|         [2.75,28.0]|    2|1.4940220062579856|\n",
      "|         [2.83,18.0]|    2|1.4976515511252853|\n",
      "|         [2.83,27.0]|    2| 1.494363472220052|\n",
      "|         [2.92,36.0]|    1| 1.491048532658989|\n",
      "|         [3.75,16.0]|    2|1.4981076597335246|\n",
      "|         [5.25,47.0]|    2|1.4863343770183404|\n",
      "|         [5.58,44.0]|    1|1.4873319142487098|\n",
      "|         [5.58,49.0]|    1|1.4855052037458025|\n",
      "|           [6.0,8.0]|    2| 1.500358880142439|\n",
      "|          [6.0,46.0]|    1|1.4864758803203426|\n",
      "|         [6.25,44.0]|    1|1.4871319515886459|\n",
      "|          [6.42,6.0]|    2|1.5009642146163975|\n",
      "|           [7.0,5.0]|    2|1.5011564547127445|\n",
      "|         [7.17,39.0]|    1|1.4886840864986295|\n",
      "|         [7.33,20.0]|    2|1.4955778341326473|\n",
      "|         [7.58,20.0]|    2|1.4955032211997876|\n",
      "|         [7.58,33.0]|    2|1.4907537738922285|\n",
      "|         [7.75,42.0]|    2|1.4874149581926506|\n",
      "|           [8.0,4.0]|    2| 1.501223345081887|\n",
      "|          [8.0,43.0]|    2|1.4869750031592093|\n",
      "|         [8.08,24.0]|    2|1.4938926269317423|\n",
      "|         [8.08,48.0]|    2|1.4851244165177868|\n",
      "|         [8.25,39.0]|    2|1.4883617586286755|\n",
      "|         [8.33,22.0]|    2|1.4945486982000455|\n",
      "|          [9.0,28.0]|    1|1.4921566829364927|\n",
      "|          [9.0,47.0]|    2|1.4852151830254445|\n",
      "|         [9.08,11.0]|    1|1.4983436225078628|\n",
      "|          [9.17,5.0]|    2| 1.500508814455522|\n",
      "|         [9.17,12.0]|    1|1.4979514197514516|\n",
      "|         [9.25,21.0]|    2|1.4946394647077033|\n",
      "|         [9.67,29.0]|    2|1.4915913781758472|\n",
      "|         [9.67,44.0]|    2| 1.486111246667125|\n",
      "|         [9.75,30.0]|    2|1.4912021599367504|\n",
      "|        [10.08,32.0]|    2|1.4903729866642128|\n",
      "|        [10.17,24.0]|    2| 1.493268862813035|\n",
      "|        [10.83,37.0]|    2|1.4883224373627262|\n",
      "|        [10.92,29.0]|    2|1.4912183135115484|\n",
      "|        [11.33,20.0]|    1|1.4943840272068918|\n",
      "|        [11.67,24.0]|    2|1.4928211852158768|\n",
      "|        [11.67,45.0]|    1|1.4851490011036657|\n",
      "|          [12.0,9.0]|    2|1.4982028276532242|\n",
      "|         [12.0,34.0]|    2|1.4890692751386871|\n",
      "|         [12.0,42.0]|    2|1.4861465383340353|\n",
      "|         [12.17,5.0]|    2|1.4996134592612054|\n",
      "|        [12.33,26.0]|    2| 1.491893522871964|\n",
      "|          [12.5,8.0]|    2|1.4984189438880862|\n",
      "|        [12.58,31.0]|    1| 1.489992199436197|\n",
      "|        [12.83,40.0]|    1| 1.486629507598104|\n",
      "|        [12.92,49.0]|    2| 1.483314568037041|\n",
      "|        [13.08,10.0]|    2|1.4975151576826886|\n",
      "|        [13.08,42.0]|    2|1.4858242104640813|\n",
      "|        [13.25,11.0]|    2|1.4970990787877625|\n",
      "|        [13.25,46.0]|    2|1.4843121052674106|\n",
      "|        [13.83,27.0]|    2|1.4910805031742242|\n",
      "|         [13.92,1.0]|    2|1.5005525371335133|\n",
      "|         [14.17,5.0]|    2|1.4990165557983277|\n",
      "|        [14.42,27.0]|    2|1.4909044166526755|\n",
      "|        [14.42,38.0]|    2| 1.486885653546279|\n",
      "|         [14.58,3.0]|    2|1.4996248747896008|\n",
      "|        [14.67,14.0]|    2|1.4955792510273749|\n",
      "|         [14.75,5.0]|    2|1.4988434537940931|\n",
      "|        [15.08,17.0]|    2|1.4943608595157405|\n",
      "|        [15.17,40.0]|    2| 1.485931130546537|\n",
      "|         [15.5,16.0]|    2|1.4946008518891176|\n",
      "|         [15.5,40.0]|    2|1.4858326414751621|\n",
      "|         [15.58,6.0]|    2|1.4982303967564174|\n",
      "|         [15.75,2.0]|    2|1.4996410283643988|\n",
      "|        [15.75,45.0]|    2| 1.483931318039395|\n",
      "|        [15.92,29.0]|    1| 1.489726054854354|\n",
      "|        [15.92,37.0]|    1|1.4868033180497022|\n",
      "|        [16.08,39.0]|    2|1.4860248815715091|\n",
      "|        [16.17,36.0]|    2|1.4870940472174239|\n",
      "|        [16.33,23.0]|    2| 1.491795742247953|\n",
      "|         [16.5,27.0]|    2|1.4902836370512824|\n",
      "|        [16.75,49.0]|    2|1.4821714979056302|\n",
      "|         [16.83,4.0]|    2|1.4985880162932819|\n",
      "|        [16.83,34.0]|    2|1.4876277532758373|\n",
      "|         [17.17,9.0]|    2| 1.496659832201685|\n",
      "|        [17.25,19.0]|    1|1.4929825350573551|\n",
      "|        [20.17,42.0]|    2|1.4837081876881797|\n",
      "|        [20.67,18.0]|    2|1.4923271722364158|\n",
      "|        [20.67,22.0]|    2|1.4908658038340898|\n",
      "|         [21.5,32.0]|    2|1.4869646678911808|\n",
      "|        [22.42,21.0]|    2|1.4907088554046533|\n",
      "|        [22.42,43.0]|    2|1.4826713291918605|\n",
      "|        [22.83,19.0]|    2|1.4913171743959261|\n",
      "|        [22.92,37.0]|    1|  1.48471415592963|\n",
      "|        [23.08,24.0]|    2|1.4894158509601592|\n",
      "|        [23.25,39.0]|    2|1.4838849826570923|\n",
      "|         [23.75,4.0]|    2|1.4965227303117248|\n",
      "|        [24.08,27.0]|    1|1.4880213729269758|\n",
      "|        [24.08,48.0]|    2|1.4803491888147646|\n",
      "|         [24.25,5.0]|    1|1.4960081623454238|\n",
      "|        [24.25,21.0]|    1|1.4901626887361201|\n",
      "|        [24.33,11.0]|    2|1.4937922336034197|\n",
      "|         [25.0,38.0]|    2|1.4837280342276558|\n",
      "|        [25.17,19.0]|    1|1.4906187973443592|\n",
      "|        [25.17,46.0]|    1|1.4807545606286592|\n",
      "|         [25.58,3.0]|    1| 1.496341905743773|\n",
      "|        [25.92,23.0]|    2|1.4889335901434542|\n",
      "|        [26.33,44.0]|    2|1.4811390408213532|\n",
      "|        [26.67,14.0]|    1|1.4919978302501085|\n",
      "|        [26.75,26.0]|    2|1.4875898489046155|\n",
      "|        [27.92,29.0]|    2|1.4861446340770876|\n",
      "+--------------------+-----+------------------+\n",
      "\n"
     ]
    }
   ],
   "source": [
    "pred_results.predictions.show(1000)"
   ]
  },
  {
   "cell_type": "code",
   "execution_count": null,
   "id": "b42fce98",
   "metadata": {},
   "outputs": [],
   "source": []
  },
  {
   "cell_type": "code",
   "execution_count": null,
   "id": "5fab4ff8",
   "metadata": {},
   "outputs": [],
   "source": []
  },
  {
   "cell_type": "code",
   "execution_count": null,
   "id": "d3928bab",
   "metadata": {},
   "outputs": [],
   "source": []
  },
  {
   "cell_type": "code",
   "execution_count": null,
   "id": "fd8e6bd8",
   "metadata": {},
   "outputs": [],
   "source": []
  }
 ],
 "metadata": {
  "kernelspec": {
   "display_name": "Python 3 (ipykernel)",
   "language": "python",
   "name": "python3"
  },
  "language_info": {
   "codemirror_mode": {
    "name": "ipython",
    "version": 3
   },
   "file_extension": ".py",
   "mimetype": "text/x-python",
   "name": "python",
   "nbconvert_exporter": "python",
   "pygments_lexer": "ipython3",
   "version": "3.11.3"
  }
 },
 "nbformat": 4,
 "nbformat_minor": 5
}
